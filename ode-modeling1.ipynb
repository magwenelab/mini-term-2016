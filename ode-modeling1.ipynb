{
 "metadata": {
  "name": ""
 },
 "nbformat": 3,
 "nbformat_minor": 0,
 "worksheets": [
  {
   "cells": [
    {
     "cell_type": "markdown",
     "metadata": {},
     "source": [
      "# Modeling Gene Networks Using Ordinary Differential Equations"
     ]
    },
    {
     "cell_type": "markdown",
     "metadata": {},
     "source": [
      "To gain some intuition for how systems biologists build mathematical models of gene networks we're going to use computer simulations to explore the dynamical behavior of simple transcriptional networks.\n",
      "\n",
      "In each of our simulations we will keep track of the the concentration of a different genes of interest as they change over time.  The basic approach we will use to calculate changes in the quantity of different molecules are  differential equations, which are simply a way of describing the instanteous change in a quantity of interest.  \n",
      "\n",
      "All of our differential equations will be of this form:\n",
      "\n",
      "\\begin{eqnarray*}\n",
      "\\frac{dY}{dt} = \\mbox{rate of production} - \\mbox{rate of decay}\n",
      "\\end{eqnarray*}\n",
      "\n",
      "To state this in words --  the amount of gene $Y$  changes over time is a function of two things: 1) a growth term which represents the rate at which the gene is being transcribed and translated; and 2) a decay term which gives the rate at which $Y$ trascsripts and protein are being degraded.  \n",
      "\n",
      "In general we will assume that the \"rate of production\" is a function of the concentration of the genes that regulate $Y$(i.e. it's inputs in the transcriptional network), while the \"rate of decay\" is a proportional to the amount of $Y$ that is present. So the above formula will take the following structure:\n",
      "\n",
      "$$\n",
      "\\frac{dY}{dt} =  f(X_1, X_2, \\ldots) - \\alpha Y\n",
      "$$\n",
      "\n",
      "The $f(X_1, X_2, \\ldots)$ term represents the growth term and is a function of the transcription factors that regulate $Y$. The term, $\\alpha Y$ represents the rate at which $Y$ is being broken down or diluted.  Notice that the decay rate is a proportional to the amount of $Y$ that is present. If $\\frac{dy}{dt}$ is positive than the concentration of gene $Y$ is increasing, if $\\frac{dy}{dt}$ is negative the concentration of $Y$ is decreasing, and if $\\frac{dy}{dt} = 0$ than $Y$ is at steady state."
     ]
    },
    {
     "cell_type": "markdown",
     "metadata": {},
     "source": [
      "### Modeling the rate of production with the Hill Function\n",
      "\n",
      "An appropriate approach for modeling the rate of transcription of a gene, $Y$, as a function of it's inputs, $X_1, X_2,..$, is a with the \"Hill Function\".  The Hill Function for a single transcriptional activator is:\n",
      "\n",
      "$$\n",
      "f(X) = \\frac{\\beta X^n}{K^n + X^n}\n",
      "$$\n",
      "\n",
      "$X$ as the represents the concentration of a transcriptional activator and $f(X)$  represents the promoter activity (rate of transcription) of the gene $Y$ that is regulated by $X$.\n"
     ]
    },
    {
     "cell_type": "markdown",
     "metadata": {},
     "source": [
      "#### Modeling transcriptional activation\n",
      "\n",
      "Write a Python function to represent transcriptional activation, using the Hill function given above:"
     ]
    },
    {
     "cell_type": "code",
     "collapsed": false,
     "input": [
      "## define your function in this cell\n",
      "\n",
      "def hill_activating(X, B, K, n):\n",
      "    pass ## replace this line with your function definition"
     ],
     "language": "python",
     "metadata": {},
     "outputs": [],
     "prompt_number": 2
    },
    {
     "cell_type": "code",
     "collapsed": true,
     "input": [
      "## generate a plot using your hill_activating function defined above\n",
      "## For X values range from 0 to 30, for different values of n (n = {1,2,4,8})\n",
      "\n",
      "# setup paramters for our simulation\n",
      "B = 5\n",
      "K = 10\n",
      "\n",
      "x = linspace(0,30,200)  # generate 200 evenly spaced points between 0 and 30\n",
      "\n",
      "plot(x, hill_activating(x, B, K, 1), label='n=1')\n",
      "plot(x, hill_activating(x, B, K, 2), label='n=2')\n",
      "plot(x, hill_activating(x, B, K, 4), label='n=4')\n",
      "plot(x, hill_activating(x, B, K, 8), label='n=8')\n",
      "\n",
      "xlabel('Conc. of X')\n",
      "ylabel('Promoter activity')\n",
      "legend(loc='best')\n",
      "ylim(0, 6)"
     ],
     "language": "python",
     "metadata": {},
     "outputs": []
    },
    {
     "cell_type": "code",
     "collapsed": false,
     "input": [],
     "language": "python",
     "metadata": {},
     "outputs": []
    },
    {
     "cell_type": "markdown",
     "metadata": {},
     "source": [
      "### Transcriptional repression\n",
      "\n",
      "\n",
      "If rather than activating $Y$'s transcription, $X$ is a transcriptional repressor we can write the corresponding Hill function as:\n",
      "\n",
      "$$\n",
      "f(X) = \\frac{\\beta}{1 + (X/K)^n}\n",
      "$$\n",
      "\n",
      "Remember that both of these equation describe the production of $Y$ as a function of the levels of $X$, not the temporal dynamics of $Y$ which we'll look at after developing a few more ideas."
     ]
    },
    {
     "cell_type": "markdown",
     "metadata": {},
     "source": [
      "#### Modeling transcriptional repression\n",
      "\n",
      "Write a function to represent *transcriptional repression*, using the repressive Hill function given above:"
     ]
    },
    {
     "cell_type": "code",
     "collapsed": false,
     "input": [
      "## define your function in this cell\n",
      "\n",
      "def hill_repressing(X, B, K, n):\n",
      "    pass ## replace this line with your function definition"
     ],
     "language": "python",
     "metadata": {},
     "outputs": []
    },
    {
     "cell_type": "code",
     "collapsed": false,
     "input": [
      "## generate a plot using your hill_activating function defined above\n",
      "## For X values range from 0 to 30\n",
      "\n",
      "B = 5\n",
      "K = 10\n",
      "\n",
      "x = linspace(0,30,200)\n",
      "\n",
      "plot(x, hill_repressing(x, B, K, 1), label='n=1')\n",
      "plot(x, hill_repressing(x, B, K, 2), label='n=2')\n",
      "plot(x, hill_repressing(x, B, K, 3), label='n=3')\n",
      "plot(x, hill_repressing(x, B, K, 8), label='n=8')\n",
      "\n",
      "xlabel('Conc. of X')\n",
      "ylabel('Promoter activty')\n",
      "legend(loc='best')\n",
      "ylim(0, 6)\n"
     ],
     "language": "python",
     "metadata": {},
     "outputs": []
    },
    {
     "cell_type": "markdown",
     "metadata": {},
     "source": [
      "## Interactive exploration of the Hill function\n",
      "\n",
      "Download the file `hill-fxn.py` and `pnsim.py` from the course website. Run this application from your terminal with the command: `python hill-fxn.py`.\n",
      "\n",
      "- Run the `hill-fxn.py` script from your terminal by typing `python hill-fxn.py`. \n",
      "\n",
      "- There are three sliders at the bottom of the application window.  You can drag the blue regions of these sliders left or right to change the indicated parameter values.  The exact values of each parameter are shown to the right of the sliders. As you drag the sliders the plot will update to show you what the Hill function looks like for the combination of parameters you have currently specified.\n",
      "\n",
      "- Also note there is a dashed vertical line in the plot window.  When you move your mouse over the plot window this line will follow your position.  As you do so, x- and y-plot values in the lower left of the application window will update to show you the exact position your mouse is pointing to in the plot.  The dashed line and the plot readout are useful for reading values off the plot.\n"
     ]
    },
    {
     "cell_type": "markdown",
     "metadata": {},
     "source": [
      "### Homework 1: Use the `hill-fxn.py` script to answer the following questions:\n",
      "\n",
      "1. Vary the parameter $n$ over the range 1 to 10.  \n",
      "    - a) Describe what happens to the shape of the plot.  \n",
      "    - b) How does changing $n$ change the maximum (or asymptotic maximum) promoter activity ($V_{max}$)? \n",
      "    - c) At what value of activator concentration is half of the maximum promoter activity reached?\n",
      "\n",
      "2.  Vary the parameter $\\beta$.  How does changing $\\beta$ change:\n",
      "    - a) the shape of the plot?\n",
      "    - b) the maximum promoter activity?\n",
      "    - c) the activator concentration corresponding to half-maximal promoter activity?\n",
      "\n",
      "3.  Vary the parameter $K$.  How does changing $K$ change:\n",
      "    - a) the shape of the plot?\n",
      "    - b) the maximum promoter activity?\n",
      "    - c) the activator concentration corresponding to half-maximal promoter activity?\n"
     ]
    },
    {
     "cell_type": "markdown",
     "metadata": {},
     "source": [
      "# Simplifying Models using Logic Approximations\n",
      "\n",
      "To simplify analysis it's often convenient to approximate step-like sigmoidal functions like those produced by the Hill equation with functions using logic approximations. \n",
      "\n",
      "We'll assume that when the transcription factor, $X$, is above a threshold, $K$, then  gene $Y$ is transcribed at a rate, $\\beta$.  When $X$ is below the threshold, $K$, gene $Y$ is not be transcribed.  To represent this situation,  we can rewrite the formula for $Y$ as:\n",
      "\n",
      "$$\n",
      "f(X) = \\beta\\ \\Theta(X > K)\n",
      "$$\n",
      "\n",
      "where the function $\\Theta$ is zero if the statement inside the parentheses is false or one if the statement is true. An alternate way to write this is:\n",
      "$$\n",
      "f(X) = \n",
      "\\begin{cases}\n",
      "    0,      &\\text{if $X > K$;} \\\\\n",
      "    \\beta,  &\\text{otherwise.}\n",
      "\\end{cases}\n",
      "$$\n",
      "\n",
      "\n",
      "When $X$ is a repressor we can write:\n",
      "\n",
      "$$\n",
      "f(X) = \\beta\\ \\Theta(X < K)\n",
      "$$"
     ]
    },
    {
     "cell_type": "markdown",
     "metadata": {},
     "source": [
      "### Python functions for the logic approximation\n",
      "\n",
      "Write Python functions to represent the logic approximations for activation and repression as given above:"
     ]
    },
    {
     "cell_type": "code",
     "collapsed": false,
     "input": [
      "def logic_activating(X, B, K):\n",
      "    pass ## replace this line with your function definition\n",
      "    \n",
      "def logic_repressing(X, B, K):\n",
      "    pass ## replace this line with your function definition"
     ],
     "language": "python",
     "metadata": {},
     "outputs": []
    },
    {
     "cell_type": "markdown",
     "metadata": {},
     "source": [
      "Generate functions comparing the logic approximation to the Hill function, for the activating case:"
     ]
    },
    {
     "cell_type": "code",
     "collapsed": false,
     "input": [
      "## generate plots using your hill_activating and logic_activating functions defined above\n",
      "## For X values range from 0 to 30\n",
      "\n",
      "B = 5\n",
      "K = 10\n",
      "n = 4\n",
      "\n",
      "x = linspace(0, 30, 200)\n",
      "plot(x, hill_activating(x, B, K, n), label='n=8')\n",
      "\n",
      "logicx = [logic_activating(i, B, K) for i in x]\n",
      "\n",
      "plot(x, logicx, label='logic approximation')\n",
      "\n",
      "xlabel('Concentration of X')\n",
      "ylabel('Promoter activity')\n",
      "ylim(-0.1, 5.5)\n",
      "legend(loc='best')\n",
      "\n"
     ],
     "language": "python",
     "metadata": {},
     "outputs": []
    },
    {
     "cell_type": "markdown",
     "metadata": {},
     "source": [
      "#### Run the script `hill-fxn-wlogic.py`\n",
      "\n",
      "This is like the previous `hill-fxn.py` script except it now include a set of buttons for toggling the logic approximation on and off.\n",
      "As before vary the parameters $n$, $\\beta$ and $K$. When is the logic approximation a good approximation to the Hill function?"
     ]
    },
    {
     "cell_type": "markdown",
     "metadata": {},
     "source": [
      "### Multi-dimensional Input Functions\n",
      "\n",
      "What if a gene needs two or more activator proteins to be transcribed?  We can describe the amount of $Z$ transcribed as a function of active forms of $X$ and $Y$ with a function like:\n",
      "\n",
      "$$\n",
      "    f(X,Y) = \\beta\\ \\Theta(X > K_x \\land Y > K_y)\n",
      "$$\n",
      "\n",
      "The above equation describes \"AND\" logic (i.e. *both* X and Y have to be above their threshold levels, $K_x$ and $K_y$, for Z to be transcribed). In a similar manner we can define \"OR\" logic:\n",
      "\n",
      "$$\n",
      "f(X,Y) = \\beta\\ \\Theta(X > K_x \\lor Y > K_y)\n",
      "$$\n",
      "\n",
      "A SUM function would be defined like this:\n",
      "\n",
      "$$\n",
      "f(X,Y) = \\beta_x \\Theta(X > K_x) + \\beta_y \\Theta (Y > K_y)\n",
      "$$\n"
     ]
    },
    {
     "cell_type": "markdown",
     "metadata": {},
     "source": [
      "# Modeling changes in transcript concentration over time\n",
      "\n",
      "Up until this point we've been considering how promoter _activity_ changes with the concentration of a transcriptional activator or promoter.  Now we want to turn to the question of how the amount of transcript of a gene $Y$ changes over time.\n",
      "\n",
      "How the amount of $Y$ transcript changes over time is a function of two things: 1) a growth term which represents the rate at which the gene is being transcribed; and 2) a decay term which gives the rate at which transcripts are being degraded.  We can write down a simple differential equation for this as follows:\n",
      "\n",
      "$$\n",
      "\\frac{dY}{dt} =  f(X_1, X_2, \\ldots) - \\alpha Y\n",
      "$$\n",
      "\n",
      "The $f(X_1, X_2, \\ldots)$ term represents the growth term and is a function of the transcription factors that regulate $Y$. The term, $\\alpha Y$ represents the rate at which $Y$ is being broken down or diluted.  Notice that the decay rate is a proportional to the amount of $Y$ that is present.\n",
      "\n",
      "We've already seen a couple of ways to model the rate of transcription -- using the Hill function or its logic approximation. For the sake of simplicity we'll use the logic approximation to model the growth term.  For example, in the case $Y$ is regulated by a single input we might use $f(X) = \\beta \\theta(X > K_1)$.  For the equivalent function where $Y$ was regulated by two transcription factor, $X_1$ and $X_2$, and both are required to be above the respective threshold, we could use the function $f(X_1, X_2) = \\beta \\theta (X_1 > K_1 \\land X_2 > K_2)$.\n"
     ]
    },
    {
     "cell_type": "markdown",
     "metadata": {},
     "source": [
      "### Change in transcript concentration under constant activation\n",
      "\n",
      "Now let's explore a simple model of regulation for the two gene network, $X \\longrightarrow Y$. Here we assume that at time 0 the activator, $X$, rises above the threshold, $K$, necessary to induce transcription of $Y$ at the rate $\\beta$.  $X$ remains above this threshold for the entire simulation. Therefore, we can write $dY/dt$ as:\n",
      "\n",
      "$$\n",
      "\\frac{dY}{dt} =  \\beta - \\alpha Y\n",
      "$$\n",
      "\n",
      "\n",
      "Write a Python function to represent the change in $Y$ in a given time increment, under this assumption of constant activation:"
     ]
    },
    {
     "cell_type": "code",
     "collapsed": false,
     "input": [
      "def dYdt(B,a,Y):\n",
      "    pass ## replace this line with your function definition"
     ],
     "language": "python",
     "metadata": {},
     "outputs": []
    },
    {
     "cell_type": "code",
     "collapsed": false,
     "input": [
      "## generate a plot using your dY function defined above\n",
      "## Evaluated over 200 time units\n",
      "\n",
      "Y = [0]\n",
      "B = 0.2\n",
      "a = 0.05\n",
      "nsteps = 200\n",
      "\n",
      "for i in range(nsteps):\n",
      "    deltay = dYdt(B, a, Y[-1])\n",
      "    ynew = Y[-1] + deltay\n",
      "    Y.append(ynew)\n",
      "    \n",
      "plot(Y)\n",
      "ylim(0, 4.5)\n",
      "xlabel('Time units')\n",
      "ylabel('Concentration of Y')\n",
      "\n",
      "\n"
     ],
     "language": "python",
     "metadata": {},
     "outputs": []
    },
    {
     "cell_type": "code",
     "collapsed": false,
     "input": [
      "\n",
      "X = [0]*50 + [1]*100 + [0]*100\n",
      "\n",
      "Y = [0]\n",
      "\n",
      "B = 0.2\n",
      "K = 0.5\n",
      "a = 0.05\n",
      "nsteps = 250\n",
      "\n",
      "for i in range(1, nsteps):\n",
      "    xnow = X[i]\n",
      "    growth = logic_activating(xnow, B, K)\n",
      "    decay = a*Y[-1]\n",
      "    deltay = growth - decay\n",
      "    ynew = Y[-1] + deltay\n",
      "    Y.append(ynew)\n",
      "    \n",
      "plot(X)\n",
      "plot(Y)\n",
      "ylim(0, 4.5)\n",
      "xlabel('Time units')\n",
      "ylabel('Concentration of Y')\n"
     ],
     "language": "python",
     "metadata": {},
     "outputs": []
    },
    {
     "cell_type": "code",
     "collapsed": false,
     "input": [],
     "language": "python",
     "metadata": {},
     "outputs": []
    },
    {
     "cell_type": "markdown",
     "metadata": {},
     "source": [
      "### Homework 2: Use the `simple-activation.py` script to answer the following questions:\n",
      "\n",
      "The `simple-activation.py` script simulates the case of constant transcriptional activation as described above. Run the `simple-activation.py` script from the terminal, using the command `python simple-activation.py`. This script includes three sliders:\n",
      "\n",
      "* $t_{max}$ which sets the number of time steps over which the simulation is run\n",
      "* $\\beta$\n",
      "* $\\alpha$\n",
      "\n",
      "#### Questions\n",
      "\n",
      "1.  The concentration of $Y$ eventually reaches a steady state, $Y_{st}$.  How does $Y_{st}$ relate to $\\beta$ and $\\alpha$?\n",
      "2. The **response time** of a dynamical system, $T_{1/2}$is defined as the time it takes for it to go half-way between it's initial and final value.  \n",
      "    - a) How does the response time change as you vary $\\beta$?\n",
      "    - b) How does the response time change as you vary $\\alpha$?\n",
      "\n",
      "3. In Excel (or Python) create a plot showing the relationship between $\\alpha$ and response time, for $0.1 \\leq \\alpha \\leq 2.0$."
     ]
    },
    {
     "cell_type": "markdown",
     "metadata": {},
     "source": [
      "## Autoregulation\n",
      "\n",
      "We're now going to contrast simple activation, of the type $X \\longrightarrow Y$, with two types of autoregulation: 1) negative autoregulation ($Y \\dashv Y$); and 2) positive autoregulation ($Y \\longrightarrow Y$).\n",
      "\n",
      "We will model autoregulation as follows:\n",
      "\n",
      "$$\n",
      "\\frac{dY}{dt} = g(Y > K) - \\alpha Y\n",
      "$$\n",
      "\n",
      "where:\n",
      "\n",
      "$$\n",
      "g(Y) = \\begin{cases}\n",
      "    \\beta_0,      &\\text{if $Y < K$;} \\\\\n",
      "    \\beta_1,    &\\text{otherwise.}\n",
      "\\end{cases}\n",
      "$$\n",
      "\n",
      "Simple regulation is the case where $\\beta_0 = \\beta_1$; negative autoregulation corresponds to $\\beta_0 > \\beta_1$; positive autoregulation is when $\\beta_0 < \\beta_1$\n",
      "\n",
      "Write a Python function to represent autoregulation:"
     ]
    },
    {
     "cell_type": "code",
     "collapsed": false,
     "input": [
      "## Write your function here\n",
      "\n",
      "def dYdt_autoreg(B0, B1, K, a, Y):\n",
      "    pass ## replace this line with your function definition"
     ],
     "language": "python",
     "metadata": {},
     "outputs": []
    },
    {
     "cell_type": "code",
     "collapsed": false,
     "input": [
      "## Generate some plots illustrating positive and negative autoregulation\n",
      "\n",
      "Y = [0]\n",
      "a = 0.05\n",
      "K = 3\n",
      "nsteps = 200\n",
      "\n",
      "## negative autoreg\n",
      "B0 = 0.4\n",
      "B1 = 0.3\n",
      "\n",
      "for i in range(nsteps):\n",
      "    pass ## simulate Y here\n",
      "#plot(Y)\n",
      "\n",
      "\n",
      "## *** Now do positive autoregulation *** ##\n",
      "\n",
      "Y = [0]  # reset Y\n",
      "B0 = 0.2\n",
      "B1 = 0.3\n",
      "\n",
      "for i in range(nsteps):\n",
      "    pass ## simulate Y here\n",
      "#plot(Y)\n"
     ],
     "language": "python",
     "metadata": {},
     "outputs": []
    },
    {
     "cell_type": "markdown",
     "metadata": {},
     "source": [
      "\n",
      "### Homework 3: Use the `autoreg.py` script to answer the following questions:\n",
      "\n",
      "Run the `autoreg.py` script. There are four sliders, representing:\n",
      "\n",
      "* a) The threshold $K$ when autoregulation kicks in\n",
      "* b) The initial growth rate, $\\beta_0$\n",
      "* c) The growth rate after feedback starts, $\\beta_1$\n",
      "* d) The decay rate, $\\alpha$\n",
      "\n",
      "#### Questions\n",
      "1. As long as the threshold $K$ is exceeded, which parameters determine the final steady state of the system?\n",
      "\n",
      "2. Keeping $\\alpha$ and $\\beta_1$ constant, vary $\\beta_0$ so that it is both less than $\\beta_1$ (positive autoregulation) and greater than $\\beta_1$ (negative autoregulation).  \n",
      "    - a) How does negative autoregulation effect the response time of the system?  \n",
      "    - b) How does positive autoregulation effect the response time of the system?"
     ]
    },
    {
     "cell_type": "markdown",
     "metadata": {},
     "source": [
      "### Document Formating"
     ]
    },
    {
     "cell_type": "code",
     "collapsed": false,
     "input": [
      "import urllib\n",
      "from IPython.core.display import HTML\n",
      "def css_styling():\n",
      "    #styles = open(\"custom.css\", \"r\").read()\n",
      "    styles = urllib.urlopen(\"http://people.duke.edu/~pm21/ipython-custom.css\").read()\n",
      "    return HTML(styles)\n",
      "css_styling()"
     ],
     "language": "python",
     "metadata": {},
     "outputs": []
    }
   ],
   "metadata": {}
  }
 ]
}