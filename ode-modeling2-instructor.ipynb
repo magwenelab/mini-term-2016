{
 "cells": [
  {
   "cell_type": "markdown",
   "metadata": {},
   "source": [
    "# Feed Forward Loops\n",
    "\n",
    "We're now going to use some of these tools to look at a class of network motifs, called Feed Forward Loops (FFLs), found in signaling and regulatory networks. FFLs involve interactions between three components, with the basic topology illustrated below. Depending on the signs of the edges (whether activating or repressing) we can classify FFLs as \"coherent\" or \"incoherent.\" We'll take a look at an example of each class."
   ]
  },
  {
   "cell_type": "markdown",
   "metadata": {},
   "source": [
    "## A Coherent FFL\n",
    "\n",
    "The most common type of coherent FFL is illustrated in the figure below.  In this system $X$ is an activator of $Y$ and both $X$ and $Y$ regulate the production of $Z$ with AND logic (i.e. both $X$ and $Y$ must be above particular thresholds in order to trigger the production of $Z$). \n",
    "\n",
    "![coherent ffl](http://people.duke.edu/~pm21/coherent-ffl.png)"
   ]
  },
  {
   "cell_type": "markdown",
   "metadata": {},
   "source": [
    "\n",
    "Using our logic approximation framework we will model the coherent FFL network illustrated above as follows.\n",
    "\n",
    "#### Gene Y:\n",
    "\n",
    "\\begin{eqnarray*}\n",
    "Y = f(X) = \\beta_y\\ \\Theta(X > K_{xy})\n",
    "\\\\\n",
    "\\\\\n",
    "\\frac{dY}{dt} = \\beta_y\\ \\Theta(X > K_{xy}) - \\alpha_{y}Y\n",
    "\\end{eqnarray*}    \n",
    "    \n",
    "    \n",
    "    \n",
    "#### Gene Z:\n",
    "\n",
    "\\begin{eqnarray*}\n",
    "Z = g(X,Y) = \\beta_z\\ \\Theta(X > K_{xz})\\Theta(Y > K_{yz})\n",
    "\\\\\n",
    "\\\\\n",
    "\\frac{dZ}{dt} = \\beta_z\\ \\Theta(X > K_{xz})\\Theta(Y > K_{yz}) - \\alpha_{z}Z\n",
    "\\end{eqnarray*}  "
   ]
  },
  {
   "cell_type": "code",
   "execution_count": 7,
   "metadata": {
    "collapsed": false
   },
   "outputs": [],
   "source": [
    "# import statements to make numeric and plotting functions available\n",
    "%matplotlib inline\n",
    "from numpy import *\n",
    "from matplotlib.pyplot import *"
   ]
  },
  {
   "cell_type": "code",
   "execution_count": 8,
   "metadata": {
    "collapsed": false
   },
   "outputs": [],
   "source": [
    "## We'll specify the behavior of X as a series of pulse of different length\n",
    "## so we'll define a function to generate pulses\n",
    "\n",
    "def pulse(ontime, offtime,  ntimes, onval=1):\n",
    "    if ontime >= offtime:\n",
    "        raise Exception(\"Invalid on/off times.\")\n",
    "    signal = np.zeros(ntimes)\n",
    "    signal[ontime:offtime] = onval\n",
    "    return signal\n"
   ]
  },
  {
   "cell_type": "code",
   "execution_count": 13,
   "metadata": {
    "collapsed": false
   },
   "outputs": [
    {
     "data": {
      "image/png": "[encoded data removed]",
      "text/plain": [
       "<matplotlib.figure.Figure at 0x106e20780>"
      ]
     },
     "metadata": {},
     "output_type": "display_data"
    }
   ],
   "source": [
    "nsteps = 150\n",
    "short_pulse = pulse(20, 23, nsteps)  # 5 sec pulse\n",
    "long_pulse = pulse(50, 100, nsteps)  # 50 sec pulse\n",
    "X = short_pulse + long_pulse  # we can then add the pulses to create\n",
    "                              # a single time trace\n",
    "\n",
    "plot(X, color='black')\n",
    "xlabel('Time units')\n",
    "ylabel('Amount of Gene Product')\n",
    "ylim(0, 1.5)\n",
    "pass"
   ]
  },
  {
   "cell_type": "markdown",
   "metadata": {},
   "source": [
    "### Define Python functions for dY/dt and dZ/dt\n",
    "\n",
    "Recall from above that\n",
    "\n",
    "\\begin{eqnarray*}\n",
    "\\frac{dY}{dt} & = & \\beta_y\\ \\Theta(X > K_{xy}) - \\alpha_{y}Y \\\\ \\\\\n",
    "\\frac{dZ}{dt} & = & \\beta_z\\ \\Theta(X > K_{xz})\\Theta(Y > K_{yz}) - \\alpha_{z}Z\n",
    "\\end{eqnarray*}"
   ]
  },
  {
   "cell_type": "code",
   "execution_count": 14,
   "metadata": {
    "collapsed": false
   },
   "outputs": [],
   "source": [
    "## Write Python functions for dY/dt and dZ/dt\n",
    "\n",
    "def dY(B,K,a,X,Y):\n",
    "    pass ## replace this line with your function definition\n",
    "\n",
    "\n",
    "def dZ(B,Kx,Ky,a,X,Y,Z):\n",
    "    pass ## replace this line with your function definition\n",
    "\n",
    "\n",
    "def dY(B,K,a,X,Y):\n",
    "    if X > K:\n",
    "        theta = 1\n",
    "    else:\n",
    "        theta = 0\n",
    "    return B * theta - a * Y\n",
    "\n",
    "\n",
    "def dZ(B,Kx,Ky,a,X,Y,Z):\n",
    "    theta = 0\n",
    "    if (X > Kx) and (Y > Ky):\n",
    "        theta = 1\n",
    "    return B * theta - a * Z\n"
   ]
  },
  {
   "cell_type": "code",
   "execution_count": 17,
   "metadata": {
    "collapsed": false
   },
   "outputs": [
    {
     "data": {
      "image/png": "[encoded data removed]",
      "text/plain": [
       "<matplotlib.figure.Figure at 0x107457f60>"
      ]
     },
     "metadata": {},
     "output_type": "display_data"
    }
   ],
   "source": [
    "## Plot X, Y, and Z on the same time scale\n",
    "\n",
    "nsteps = 150\n",
    "short_pulse = pulse(20, 23, nsteps)  # 5 sec pulse\n",
    "long_pulse = pulse(50, 100, nsteps)  # 50 sec pulse\n",
    "X = short_pulse + long_pulse\n",
    "\n",
    "# setup parameters for Y and Z\n",
    "Y = [0]\n",
    "betay, alphay = 0.2, 0.1\n",
    "Kxy = 0.5\n",
    "\n",
    "Z = [0]\n",
    "betaz, alphaz = 0.2, 0.1\n",
    "Kxz = 0.5\n",
    "Kyz = 1\n",
    "\n",
    "for i in range(nsteps):\n",
    "    xnow = X[i]\n",
    "    ynow, znow = Y[-1], Z[-1]\n",
    "    \n",
    "    ynew = ynow + dY(betay, Kxy, alphay, xnow, ynow)\n",
    "    znew = znow + dZ(betaz, Kxz, Kyz, alphaz, xnow, ynow, znow)\n",
    "    \n",
    "    Y.append(ynew)\n",
    "    Z.append(znew)\n",
    "    \n",
    "\n",
    "plot(X, 'k--', label='X', linewidth=1.5)\n",
    "plot(Y, 'b', label='Y')\n",
    "plot(Z, 'r', label='Z')\n",
    "ylim(-0.1, 2.5)\n",
    "xlabel(\"Time\")\n",
    "ylabel(\"Concentration\")\n",
    "legend()\n",
    "pass"
   ]
  },
  {
   "cell_type": "markdown",
   "metadata": {},
   "source": [
    "<h3> <font color='firebrick'>Questions</font> </h3>\n",
    "\n",
    "1. How do the dynamics of $Y$ and $Z$ differ in the simulation above?\n",
    "\n",
    "2. Try varying the length of the first (short) pulse?  How does changing the length of the pulse affect the dynamics of $Y$ and $Z$?"
   ]
  },
  {
   "cell_type": "markdown",
   "metadata": {},
   "source": [
    "# Performance of the Coherent FFL under noisy inputs\n",
    "\n",
    "Let's further explore the behavior of the coherent FFL defined given noisy inputs.  As before we're going to define an input signal, $X$, that has a short and long pulse, but now we're going to pollute $X$ with random noise."
   ]
  },
  {
   "cell_type": "code",
   "execution_count": 74,
   "metadata": {
    "collapsed": false
   },
   "outputs": [
    {
     "data": {
      "image/png": "[encoded data removed]",
      "text/plain": [
       "<matplotlib.figure.Figure at 0x107a3b0f0>"
      ]
     },
     "metadata": {},
     "output_type": "display_data"
    }
   ],
   "source": [
    "nsteps = 150\n",
    "\n",
    "p1start = 10\n",
    "p1duration = 5\n",
    "\n",
    "p2start = 50\n",
    "p2duration = 50\n",
    "\n",
    "short_pulse = pulse(p1start, p1start + p1duration, nsteps)  # short pulse\n",
    "long_pulse = pulse(p2start, p2start + p2duration, nsteps)  # long pulse\n",
    "X = short_pulse + long_pulse \n",
    "\n",
    "# change this `scale` argument to increase/decrease noise\n",
    "noise = np.random.normal(loc=0, scale=0.2, size=nsteps) # mean=0, sd=0.2\n",
    "\n",
    "X = X + noise\n",
    "\n",
    "# setup parameters for Y and Z\n",
    "Y = [0]\n",
    "betay, alphay = 0.2, 0.1\n",
    "Kxy = 0.5\n",
    "\n",
    "Z = [0]\n",
    "betaz, alphaz = 0.2, 0.1\n",
    "Kxz = 0.5\n",
    "Kyz = 1\n",
    "\n",
    "for i in range(nsteps):\n",
    "    xnow = X[i]\n",
    "    ynow, znow = Y[-1], Z[-1]\n",
    "    ynew = ynow + dY(betay, Kxy, alphay, xnow, ynow)\n",
    "    znew = znow + dZ(betaz, Kxz, Kyz, alphaz, xnow, ynow, znow)\n",
    "    Y.append(ynew)\n",
    "    Z.append(znew)\n",
    "\n",
    "# draw each trace as a subfigure\n",
    "# subfigures stacked in a vertical grid\n",
    "\n",
    "subplot2grid((3,1),(0,0))\n",
    "plot(X, 'k', label='X', linewidth=1)\n",
    "legend()\n",
    "\n",
    "subplot2grid((3,1),(1,0))\n",
    "plot(Y, 'b', label='Y', linewidth=2)\n",
    "legend()\n",
    "\n",
    "subplot2grid((3,1),(2,0))\n",
    "plot(Z, 'r', label='Z', linewidth=2)\n",
    "\n",
    "vlines(p1start, min(Z),max(Z)*1.1,color='black',linestyle='dashed')\n",
    "annotate(\"pulse 1 on\", xy=(p1start,1),xytext=(40,20),\n",
    "         textcoords='offset points',\n",
    "         horizontalalignment=\"center\",\n",
    "         verticalalignment=\"bottom\",\n",
    "         arrowprops=dict(arrowstyle=\"->\",color='black',\n",
    "                         connectionstyle='arc3,rad=0.5',\n",
    "                         linewidth=1))\n",
    "vlines(p2start, min(Z),max(Z)*1.1,color='black',linestyle='dashed')\n",
    "annotate(\"pulse 2 on\", xy=(p2start,1),xytext=(-40,0),\n",
    "         textcoords='offset points',\n",
    "         horizontalalignment=\"center\",\n",
    "         verticalalignment=\"bottom\",\n",
    "         arrowprops=dict(arrowstyle=\"->\",color='black',\n",
    "                         connectionstyle='arc3,rad=0.5',\n",
    "                         linewidth=1))\n",
    "legend()\n",
    "pass"
   ]
  },
  {
   "cell_type": "markdown",
   "metadata": {},
   "source": [
    "### To Explore\n",
    "\n",
    "In the code cell above, try changing the duration of the first pulse and the `scale` of the noise (see comments in code) to get a sense of how good a filter the FFL is.  Is there a bias to the filtering with respect to turn on versus turn of?"
   ]
  },
  {
   "cell_type": "markdown",
   "metadata": {},
   "source": [
    "\n",
    "### OPTIONAL: Dynamics of Y and Z in the Coherent FFL\n",
    "\n",
    "As before we can solve for Y as a function of time and calculate what its steady state value will be:\n",
    "\n",
    "$$\n",
    "Y(t) = Y_{st}(1-e^{-\\alpha_{y}t})\n",
    "$$\n",
    "\n",
    "and \n",
    "\n",
    "$$\n",
    "Y_{st}=\\frac{\\beta_y}{\\alpha_y}\n",
    "$$\n",
    "\n",
    "#### How about $Z$? \n",
    "\n",
    "Since $Z$ is governed by an AND function it needs both $X$ and $Y$ to be above their respective thresholds, $K_{xz}$ and $K_{yz}$. For the sake of simplicity let's assume that both $Y$ and $Z$ have the same threshold with respect to $X$, i.e. $K_{xy} = K_{xz}$. This allows us just to consider how long it takes for $Y$ to reach the threshold value $K_{yz}$. Given this we can calculate the delay before $Z$ turns on, $T_{\\mathrm{on}}$ as follows.\n",
    "\n",
    "$$\n",
    "Y(T_{\\mathrm{on}}) = Y_{st}(1-e^{-\\alpha_y T_{\\mathrm{on}}}) = K_{yz}\n",
    "$$\n",
    "\n",
    "and solving for $T_{\\mathrm{on}}$ we find:\n",
    "\n",
    "$$\n",
    "T_{\\mathrm{on}} = \\frac{1}{\\alpha_y} \\log\\left[\\frac{1}{(1-K_{yz}/Y_{st})}\\right]\n",
    "$$\n",
    "\n",
    "Thus we see that the delay before $Z$ turns on is a function of the degradation rate of $Y$ and the ratio between $Y_{st}$ and $K_{yz}$.  \n",
    "\n",
    "#### Exploring the Parameter space of $Z$'s turn-on time\n",
    "\n",
    "From the above formula, we see that there are two parameters that affect the turn-on time of $Z$ -- $\\alpha_y$ (the scaling factor for the decay rate of $Y$)  and the compound parameter $K_{yz}/Y_{st}$ (the threshold concentration where $Y$ activate $Z$ relative to the steady state of $Y$).  To explore the two-dimensional parameter space of $Z's$ $T_on$ we can create a contour plot."
   ]
  },
  {
   "cell_type": "code",
   "execution_count": 38,
   "metadata": {
    "collapsed": false
   },
   "outputs": [
    {
     "data": {
      "image/png": "[encoded data removed]",
      "text/plain": [
       "<matplotlib.figure.Figure at 0x107c77a90>"
      ]
     },
     "metadata": {},
     "output_type": "display_data"
    }
   ],
   "source": [
    "def Ton(alpha, KYratio):\n",
    "    return (1.0/alpha) * log(1.0/(1.0-KYratio))\n",
    "\n",
    "## Create a contour plot for a range of alpha and Kyz/Yst\n",
    "x = alpha = linspace(0.01, 0.2, 100)\n",
    "y = KYratio = linspace(0.01, 0.99, 100)\n",
    "X,Y = meshgrid(x, y)\n",
    "\n",
    "Z = Ton(X,Y)\n",
    "levels = MaxNLocator(nbins=20).tick_values(Z.min(), Z.max())\n",
    "\n",
    "im = contourf(X,Y,Z, cmap=cm.inferno_r, levels=levels)\n",
    "contour(X, Y, Z, levels,\n",
    "                  colors=('k',),\n",
    "                  linewidths=(0.5,))\n",
    "colorbar(im)\n",
    "xlabel('alpha')\n",
    "ylabel(\"Kyz/Yst\")\n",
    "pass"
   ]
  },
  {
   "cell_type": "markdown",
   "metadata": {},
   "source": [
    "### Type 1 Coherent FFLs can act as a Sign-Sensitive Delays\n",
    "\n",
    "As discussed in the article by Shen-Orr et al. a feed forward loop of the type we've just discussed can act as a type of filter -- a sign-sensitive delay that keeps $Z$ from firing in response to transient noisy signals from $X$, but shuts down $Z$ immediately once the signal from $X$ is removed. "
   ]
  },
  {
   "cell_type": "markdown",
   "metadata": {},
   "source": [
    "# An Incoherent FFL\n",
    "\n",
    "Consider the FFL illustrated in the figure below.  \n",
    "\n",
    "![incoherent ffl](http://people.duke.edu/~pm21/incoherent-ffl.png)\n",
    "\n",
    "In this incoherent FFL, the logic function that regulates $Z$ is \"X AND NOT Y\".  That is $Z$ turns on once $X$ is above a given threshold, but only stays on fully as long as $Y$ is below another threshold. Again for simplicity we assume $K_{xy} = K_{yz}$. "
   ]
  },
  {
   "cell_type": "markdown",
   "metadata": {},
   "source": [
    "### Dynamics of Y\n",
    "\n",
    "As before, the dynamics of $Y$ are described by:\n",
    "\n",
    "$$\n",
    "\\frac{dY}{dt} = \\beta_y\\ \\Theta(X > K_{xy}) - \\alpha_{y}Y\n",
    "$$\n",
    "\n",
    "and   \n",
    "\n",
    "$$\n",
    "Y(t) = Y_{st}(1-e^{-\\alpha_{y}t})\n",
    "$$\n"
   ]
  },
  {
   "cell_type": "markdown",
   "metadata": {},
   "source": [
    "\n",
    "### Dynamics of Z\n",
    "\n",
    "To describe $Z$ we consider two phases - 1) while $Y < K_{yz}$ and 2) while $Y > K_{yz}$. \n",
    "\n",
    "#### Z, Phase 1\n",
    "\n",
    "For the first phase:\n",
    "\n",
    "$$\n",
    "\\frac{dZ}{dt} = \\beta_z\\ \\Theta(X > K_{xz}) - \\alpha_{z}Z\n",
    "$$\n",
    "\n",
    "and\n",
    "\n",
    "$$\n",
    "Z(t) = Z_{m}(1-e^{-\\alpha_{z}t})\n",
    "$$\n",
    "\n",
    "As we did in the case of the coherent FFL, we can calculate the time until $Y$ reaches the treshold $K_{yz}$. We'll call this $T_{\\mathrm{rep}}$ and it is the same formula we found for $T_{\\mathrm{on}}$ previously.\n",
    "\n",
    "$$\n",
    "T_{\\mathrm{rep}} = \\frac{1}{\\alpha_y \\log[\\frac{1}{1-K_{yz}/Y_{st}}]}\n",
    "$$\n",
    "\n",
    "#### Z, Phase 2\n",
    "\n",
    "After a delay, $T_{\\mathrm{rep}}$, $Y$ starts to repress the transcription of $Z$ and $Z$ decays to a new lower steady state, $Z_{st} = \\beta_{z}^{'}/\\alpha$. The value of  $\\beta_{z}^{'}$ depends on how leaky the repression of $Z$ is by $Y$.  \n",
    "\n",
    "\n",
    "The dynamics of $Z$ in Phase 2 is given by:\n",
    "\n",
    "$$\n",
    "Z(t) = Z_{st} + (Z_0 - Z_{st})e^{-\\alpha_{z}(t-T_{\\mathrm{rep}})}\n",
    "$$\n",
    "\n",
    "where\n",
    "$$\n",
    "Z_0 = Z_{m}(1-e^{-\\alpha_{z}T_{\\mathrm{rep}}})\n",
    "$$\n"
   ]
  },
  {
   "cell_type": "markdown",
   "metadata": {},
   "source": [
    "### Combining the two phases of Z\n",
    "\n",
    "We can combine the two phases of $Z$ into a single function:\n",
    "\n",
    "$$\n",
    "f(X,Y) = \\beta_z\\Theta(X > K_{xz} \\land Y < K_{yz}) + \\beta_{z}^{'}\\Theta(Y \\geq K_{yz}) - \\alpha_z Z\n",
    "$$"
   ]
  },
  {
   "cell_type": "code",
   "execution_count": 79,
   "metadata": {
    "collapsed": false
   },
   "outputs": [],
   "source": [
    "## Write a Python function that represents dZ/dt for the Incoherent FFL\n",
    "## our dY function previously defined stays the same\n",
    "\n",
    "def dZ_incoh(B1,B2,Kx,Ky,a,X,Y,Z):\n",
    "    pass # define the function here\n",
    "\n",
    "def dZ_incoh(B1,B2,Kx,Ky,a,X,Y,Z):\n",
    "    theta = 0\n",
    "    B = 0\n",
    "    if (X > Kx) and (Y < Ky):\n",
    "        theta = 1\n",
    "        B = B1\n",
    "    elif (X > Kx) and (Y >= Ky):\n",
    "        theta = 1\n",
    "        B = B2\n",
    "    return B * theta - a * Z\n"
   ]
  },
  {
   "cell_type": "code",
   "execution_count": 85,
   "metadata": {
    "collapsed": false
   },
   "outputs": [
    {
     "data": {
      "image/png": "[encoded data removed]",
      "text/plain": [
       "<matplotlib.figure.Figure at 0x107ac6978>"
      ]
     },
     "metadata": {},
     "output_type": "display_data"
    }
   ],
   "source": [
    "## Write your simulation here\n",
    "\n",
    "nsteps = 150\n",
    "short_pulse = pulse(20, 25, nsteps)  # 5 sec pulse\n",
    "long_pulse = pulse(50, 100, nsteps)  # 50 sec pulse\n",
    "X = short_pulse + long_pulse\n",
    "\n",
    "# setup parameters for Y and Z\n",
    "Y = [0]\n",
    "betay, alphay = 0.2, 0.1\n",
    "Kxy = 0.5\n",
    "\n",
    "Z = [0]\n",
    "betaz1, betaz2 = 0.2, 0.001\n",
    "alphaz = 0.1\n",
    "Kxz = 0.5\n",
    "Kyz = 0.5\n",
    "\n",
    "for i in range(nsteps):\n",
    "    xnow = X[i]\n",
    "    ynow, znow = Y[-1], Z[-1]\n",
    "    \n",
    "    ynew = ynow + dY(betay, Kxy, alphay, xnow, ynow)\n",
    "    znew = znow + dZ_incoh(betaz1, betaz2, Kxz, Kyz, alphaz, xnow, ynow, znow)\n",
    "    \n",
    "    Y.append(ynew)\n",
    "    Z.append(znew)\n",
    "    \n",
    "\n",
    "# draw each trace as a subfigure\n",
    "# subfigures stacked in a vertical grid\n",
    "\n",
    "subplot2grid((3,1),(0,0))\n",
    "plot(X, 'k', label='X', linewidth=1)\n",
    "legend()\n",
    "ylim(0,1.1)\n",
    "\n",
    "subplot2grid((3,1),(1,0))\n",
    "plot(Y, 'b', label='Y', linewidth=2)\n",
    "legend()\n",
    "ylim(0,2.1)\n",
    "\n",
    "subplot2grid((3,1),(2,0))\n",
    "plot(Z, 'r', label='Z', linewidth=2)\n",
    "legend()\n",
    "ylim(0,0.7)\n",
    "pass"
   ]
  },
  {
   "cell_type": "markdown",
   "metadata": {},
   "source": [
    "### Dynamics of the Incoherent FFL\n",
    "\n",
    "Note that the stimulus amount of $Z$ in the system initially increases, but then decreases to a lower steady even when the initial stimulus persists. This system thus generates **pulse-like dynamics to a persistent signal**. How pulse-like the signal is depends on the ratio of $\\beta_z$ to $\\beta_{z}^{'}$. We define the repression factor, $F$, as follows:\n",
    "\n",
    "$$\n",
    "F = \\frac{\\beta_z}{\\beta_{z}^{'}} = \\frac{Z_m}{Z_{st}}\n",
    "$$\n"
   ]
  },
  {
   "cell_type": "markdown",
   "metadata": {},
   "source": [
    "<h1> <font color='firebrick'> Modeling Challenge </font> </h1>\n",
    "\n",
    "See if you can come up with a reasonably small set of coupled ODEs for one of the signaling or regulatory networks you've learned about in this mini-term.\n"
   ]
  }
 ],
 "metadata": {
  "kernelspec": {
   "display_name": "Python 3",
   "language": "python",
   "name": "python3"
  },
  "language_info": {
   "codemirror_mode": {
    "name": "ipython",
    "version": 3
   },
   "file_extension": ".py",
   "mimetype": "text/x-python",
   "name": "python",
   "nbconvert_exporter": "python",
   "pygments_lexer": "ipython3",
   "version": "3.5.1"
  }
 },
 "nbformat": 4,
 "nbformat_minor": 0
}
