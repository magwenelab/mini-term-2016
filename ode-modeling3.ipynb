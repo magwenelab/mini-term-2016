{
 "cells": [
  {
   "cell_type": "markdown",
   "metadata": {},
   "source": [
    "# Reading Questions\n",
    "\n",
    "**Paper**: A synthetic oscillatory network of transcriptional regulators. Elowitz MB, Leibler S. Nature. 2000 Jan 20;403(6767):335-8. [DOI Link](http://dx.doi.org/10.1038/35002125)\n",
    "\n",
    "1.  How was the repressilator network that Elowitz and Liebler explored and constructed?  How did they monitor the behavior of the network in E. coli cells?\n",
    "\n",
    "2. Elowitz and Liebler developed a mathematical model of the repressilator to understand the space of dynamical behaviors of the system.  What sort of parameters did they consider important in their model?  What sort of outcomes did their model predict?\n",
    "\n",
    "3. Did the in vivo experiments that Elowitz and Liebler carried out agree with their modeling results?  What other types of phenomena did Elowitz and Liebler observe in their experiments?\n",
    "\n",
    "![repressilator](http://people.duke.edu/~pm21/repressilator-fig.png)"
   ]
  },
  {
   "cell_type": "markdown",
   "metadata": {},
   "source": [
    "# Modeling the  Repressilator"
   ]
  },
  {
   "cell_type": "markdown",
   "metadata": {},
   "source": [
    "Implement a model of the repressilator using the logic approximation framework we explored in class sessions 4 and 5."
   ]
  },
  {
   "cell_type": "code",
   "execution_count": 4,
   "metadata": {
    "collapsed": false
   },
   "outputs": [],
   "source": [
    "## define the differential equations for each gene here"
   ]
  },
  {
   "cell_type": "code",
   "execution_count": 7,
   "metadata": {
    "collapsed": false
   },
   "outputs": [],
   "source": [
    "### define the simulations here"
   ]
  },
  {
   "cell_type": "code",
   "execution_count": 6,
   "metadata": {
    "collapsed": false
   },
   "outputs": [],
   "source": [
    "## generate some plots here"
   ]
  },
  {
   "cell_type": "markdown",
   "metadata": {},
   "source": [
    "### Questions, Hybrid models\n",
    "\n",
    "1. For what range of parameters do you get oscillatory behaviors vs is stable fixed points?\n"
   ]
  }
 ],
 "metadata": {
  "kernelspec": {
   "display_name": "Python 3",
   "language": "python",
   "name": "python3"
  },
  "language_info": {
   "codemirror_mode": {
    "name": "ipython",
    "version": 3
   },
   "file_extension": ".py",
   "mimetype": "text/x-python",
   "name": "python",
   "nbconvert_exporter": "python",
   "pygments_lexer": "ipython3",
   "version": "3.5.1"
  }
 },
 "nbformat": 4,
 "nbformat_minor": 0
}
