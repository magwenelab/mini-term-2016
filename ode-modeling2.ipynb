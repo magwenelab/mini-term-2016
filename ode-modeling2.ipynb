{
 "metadata": {
  "name": ""
 },
 "nbformat": 3,
 "nbformat_minor": 0,
 "worksheets": [
  {
   "cells": [
    {
     "cell_type": "markdown",
     "metadata": {},
     "source": [
      "# Feed Forward Loops\n",
      "\n",
      "We're now going to use some of these tools to look at a class of network motifs, called Feed Forward Loops (FFLs), found in signaling and regulatory networks. FFLs involve interactions between three components, with the basic topology illustrated below. Depending on the signs of the edges (whether activating or repressing) we can classify FFLs as \"coherent\" or \"incoherent.\" We'll take a look at an example of each class."
     ]
    },
    {
     "cell_type": "markdown",
     "metadata": {},
     "source": [
      "## A Coherent FFL\n",
      "\n",
      "The most common type of coherent FFL is illustrated in the figure below.  In this system $X$ is an activator of $Y$ and both $X$ and $Y$ regulate the production of $Z$ with AND logic (i.e. both $X$ and $Y$ must be above particular thresholds in order to trigger the production of $Z$). \n",
      "\n",
      "![coherent ffl](http://people.duke.edu/~pm21/coherent-ffl.png)"
     ]
    },
    {
     "cell_type": "markdown",
     "metadata": {},
     "source": [
      "\n",
      "Using our logic approximation framework we will model the coherent FFL network illustrated above as follows.\n",
      "\n",
      "#### Gene Y:\n",
      "\n",
      "\\begin{eqnarray*}\n",
      "Y = f(X) = \\beta_y\\ \\Theta(X > K_{xy})\n",
      "\\\\\n",
      "\\\\\n",
      "\\frac{dY}{dt} = \\beta_y\\ \\Theta(X > K_{xy}) - \\alpha_{y}Y\n",
      "\\end{eqnarray*}    \n",
      "    \n",
      "    \n",
      "    \n",
      "#### Gene Z:\n",
      "\n",
      "\\begin{eqnarray*}\n",
      "Z = g(X,Y) = \\beta_z\\ \\Theta(X > K_{xz})\\Theta(Y > K_{yz})\n",
      "\\\\\n",
      "\\\\\n",
      "\\frac{dZ}{dt} = \\beta_z\\ \\Theta(X > K_{xz})\\Theta(Y > K_{yz}) - \\alpha_{z}Z\n",
      "\\end{eqnarray*}  "
     ]
    },
    {
     "cell_type": "code",
     "collapsed": false,
     "input": [
      "%pylab"
     ],
     "language": "python",
     "metadata": {},
     "outputs": []
    },
    {
     "cell_type": "code",
     "collapsed": false,
     "input": [
      "## We'll specify the behavior of X as a series of pulse of different length\n",
      "## so we'll define a function to generate pulses\n",
      "\n",
      "def pulse(ontime, offtime,  ntimes, onval=1):\n",
      "    if ontime >= offtime:\n",
      "        raise Exception(\"Invalid on/off times.\")\n",
      "    signal = np.zeros(ntimes)\n",
      "    signal[ontime:offtime] = onval\n",
      "    return signal\n"
     ],
     "language": "python",
     "metadata": {},
     "outputs": []
    },
    {
     "cell_type": "code",
     "collapsed": false,
     "input": [
      "nsteps = 150\n",
      "short_pulse = pulse(20, 23, nsteps)  # 5 sec pulse\n",
      "long_pulse = pulse(50, 100, nsteps)  # 50 sec pulse\n",
      "X = short_pulse + long_pulse\n",
      "\n",
      "plot(X)\n",
      "xlabel('Time units')\n",
      "ylabel('Amount of Gene Product')\n",
      "ylim(0, 1.5)\n"
     ],
     "language": "python",
     "metadata": {},
     "outputs": []
    },
    {
     "cell_type": "code",
     "collapsed": false,
     "input": [
      "## Write Python functions for dY/dt and dZ/dt\n",
      "\n",
      "def dY(B,K,a,X,Y):\n",
      "    pass ## replace this line with your function definition\n",
      "\n",
      "\n",
      "def dZ(B,Kx,Ky,a,X,Y,Z):\n",
      "    pass ## replace this line with your function definition\n"
     ],
     "language": "python",
     "metadata": {},
     "outputs": []
    },
    {
     "cell_type": "code",
     "collapsed": false,
     "input": [
      "## Plot X, Y, and Z on the same time scale\n",
      "\n",
      "nsteps = 150\n",
      "short_pulse = pulse(20, 23, nsteps)  # 5 sec pulse\n",
      "long_pulse = pulse(50, 100, nsteps)  # 50 sec pulse\n",
      "X = short_pulse + long_pulse\n",
      "\n",
      "# setup parameters for Y and Z\n",
      "Y = [0]\n",
      "betay, alphay = 0.2, 0.1\n",
      "Kxy = 0.5\n",
      "\n",
      "Z = [0]\n",
      "betaz, alphaz = 0.2, 0.1\n",
      "Kxz = 0.5\n",
      "Kyz = 1\n",
      "\n",
      "for i in range(nsteps):\n",
      "    xnow = X[i]\n",
      "    ynow, znow = Y[-1], Z[-1]\n",
      "    \n",
      "    ynew = ynow + dY(betay, Kxy, alphay, xnow, ynow)\n",
      "    znew = znow + dZ(betaz, Kxz, Kyz, alphaz, xnow, ynow, znow)\n",
      "    \n",
      "    Y.append(ynew)\n",
      "    Z.append(znew)\n",
      "    \n",
      "\n",
      "plot(X, 'k--', label='X', linewidth=1.5)\n",
      "plot(Y, 'b', label='Y')\n",
      "plot(Z, 'r', label='Z')\n",
      "ylim(-0.1, 2.5)\n",
      "legend()\n",
      "pass"
     ],
     "language": "python",
     "metadata": {},
     "outputs": []
    },
    {
     "cell_type": "markdown",
     "metadata": {},
     "source": [
      "\n",
      "### Dynamics of Y\n",
      "\n",
      "As before we can solve for Y as a function of time and calculate what its steady state value will be:\n",
      "\n",
      "$$\n",
      "Y(t) = Y_{st}(1-e^{-\\alpha_{y}t})\n",
      "$$\n",
      "\n",
      "and \n",
      "\n",
      "$$\n",
      "Y_{st}=\\frac{\\beta_y}{\\alpha_y}\n",
      "$$\n"
     ]
    },
    {
     "cell_type": "markdown",
     "metadata": {},
     "source": [
      "\n",
      "### Dynamics of Z\n",
      "\n",
      "How about $Z$? Since $Z$ is governed by an AND function it needs both $X$ and $Y$ to be above their respective thresholds, $K_{xz}$ and $K_{yz}$. For the sake of simplicity let's assume that both $Y$ and $Z$ have the same threshold with respect to $X$, i.e. $K_{xy} = K_{xz}$. This allows us just to consider how long it takes for $Y$ to reach the threshold value $K_{yz}$. Given this we can calculate the delay before $Z$ turns on, $T_{\\mathrm{on}}$ as follows.\n",
      "\n",
      "$$\n",
      "Y(T_{\\mathrm{on}}) = Y_{st}(1-e^{-\\alpha_y T_{\\mathrm{on}}}) = K_{yz}\n",
      "$$\n",
      "\n",
      "and solving for $T_{\\mathrm{on}}$ we find:\n",
      "\n",
      "$$\n",
      "T_{\\mathrm{on}} = \\frac{1}{\\alpha_y} \\log\\left[\\frac{1}{(1-K_{yz}/Y_{st})}\\right]\n",
      "$$\n",
      "\n",
      "Thus we see that the delay before $Z$ turns on is a function of the degradation rate of $Y$ and the ratio between $Y_{st}$ and $K_{yz}$.  "
     ]
    },
    {
     "cell_type": "code",
     "collapsed": false,
     "input": [
      "## Write a function for Ton\n",
      "\n",
      "def Ton(alpha, KYratio):\n",
      "    pass ## replace this line with your function definition\n",
      "\n",
      "\n",
      "## Create a contour plot for a range of alpha and ration Kyz/Yst\n",
      "x = alpha = arange(0.01, 0.2 ,0.01)\n",
      "y = KYratio = arange(0.01,1,0.01)\n",
      "X,Y = meshgrid(x, y)\n",
      "\n",
      "Z = Ton(X,Y)\n",
      "levels = MaxNLocator(nbins=20).tick_values(Z.min(), Z.max())\n",
      "\n",
      "im = contourf(X,Y,Z, cmap=cm.PiYG, levels=levels)\n",
      "colorbar()\n",
      "xlabel('alpha')\n",
      "ylabel(\"Kyz/Yst\")"
     ],
     "language": "python",
     "metadata": {},
     "outputs": []
    },
    {
     "cell_type": "markdown",
     "metadata": {},
     "source": [
      "### Performance of the Coherent FFL under noisy inputs\n",
      "\n",
      "Let's further explore the behavior of the coherent FFL defined given noisy inputs.  As before we're going to define an input signal, $X$, that has a short and long pulse, but now we're going to pollute $X$ with random noise."
     ]
    },
    {
     "cell_type": "code",
     "collapsed": false,
     "input": [
      "nsteps = 150\n",
      "\n",
      "short_pulse = pulse(20, 25, nsteps)  # 5 sec pulse\n",
      "long_pulse = pulse(50, 100, nsteps)  # 50 sec pulse\n",
      "X = short_pulse + long_pulse \n",
      "\n",
      "noise = np.random.normal(0, 0.2, nsteps) # mean=0, sd=0.2\n",
      "X = X + noise\n",
      "\n",
      "# setup parameters for Y and Z\n",
      "Y = [0]\n",
      "betay, alphay = 0.2, 0.01\n",
      "Kxy = 0.5\n",
      "\n",
      "Z = [0]\n",
      "betaz, alphaz = 0.2, 0.01\n",
      "Kxz = 0.5\n",
      "Kyz = 1\n",
      "\n",
      "for i in range(nsteps):\n",
      "    xnow = X[i]\n",
      "    ynow, znow = Y[-1], Z[-1]\n",
      "    \n",
      "    ynew = ynow + dY(betay, Kxy, alphay, xnow, ynow)\n",
      "    znew = znow + dZ(betaz, Kxz, Kyz, alphaz, xnow, ynow, znow)\n",
      "    \n",
      "    Y.append(ynew)\n",
      "    Z.append(znew)\n",
      "\n",
      "# draw each trace as a subfigure\n",
      "# subfigures stacked in a vertical grid\n",
      "\n",
      "subplot2grid((3,1),(0,0))\n",
      "plot(X, 'k', label='X', linewidth=1)\n",
      "legend()\n",
      "\n",
      "subplot2grid((3,1),(1,0))\n",
      "plot(Y, 'b', label='Y', linewidth=2)\n",
      "legend()\n",
      "\n",
      "subplot2grid((3,1),(2,0))\n",
      "plot(Z, 'r', label='Z', linewidth=2)\n",
      "legend()\n",
      "pass"
     ],
     "language": "python",
     "metadata": {},
     "outputs": []
    },
    {
     "cell_type": "markdown",
     "metadata": {},
     "source": [
      "### Type 1 Coherent FFLs can act as a Sign-Sensitive Delays\n",
      "\n",
      "As discussed in the article by Shen-Orr et al. a feed forward loop of the type we've just discussed can act as a type of filter -- a sign-sensitive delay that keeps $Z$ from firing in response to transient noisy signals from $X$, but shuts down $Z$ immediately once the signal from $X$ is removed. "
     ]
    },
    {
     "cell_type": "markdown",
     "metadata": {},
     "source": [
      "## An Incoherent FFL\n",
      "\n",
      "Consider the FFL illustrated in the figure below.  \n",
      "\n",
      "![incoherent ffl](http://people.duke.edu/~pm21/incoherent-ffl.png)\n",
      "\n",
      "In this incoherent FFL, the logic function that regulates $Z$ is \"X AND NOT Y\".  That is $Z$ turns on once $X$ is above a given threshold, but only stays on fully as long as $Y$ is below another threshold. Again for simplicity we assume $K_{xy} = K_{yz}$. "
     ]
    },
    {
     "cell_type": "markdown",
     "metadata": {},
     "source": [
      "### Dynamics of Y\n",
      "\n",
      "As before, the dynamics of $Y$ are described by:\n",
      "\n",
      "$$\n",
      "\\frac{dY}{dt} = \\beta_y\\ \\Theta(X > K_{xy}) - \\alpha_{y}Y\n",
      "$$\n",
      "\n",
      "and   \n",
      "\n",
      "$$\n",
      "Y(t) = Y_{st}(1-e^{-\\alpha_{y}t})\n",
      "$$\n"
     ]
    },
    {
     "cell_type": "markdown",
     "metadata": {},
     "source": [
      "\n",
      "### Dynamics of Z\n",
      "\n",
      "To describe $Z$ we consider two phases - 1) while $Y < K_{yz}$ and 2) while $Y > K_{yz}$. \n",
      "\n",
      "#### Z, Phase 1\n",
      "\n",
      "For the first phase:\n",
      "\n",
      "$$\n",
      "\\frac{dZ}{dt} = \\beta_z\\ \\Theta(X > K_{xz}) - \\alpha_{z}Z\n",
      "$$\n",
      "\n",
      "and\n",
      "\n",
      "$$\n",
      "Z(t) = Z_{m}(1-e^{-\\alpha_{z}t})\n",
      "$$\n",
      "\n",
      "As we did in the case of the coherent FFL, we can calculate the time until $Y$ reaches the treshold $K_{yz}$. We'll call this $T_{\\mathrm{rep}}$ and it is the same formula we found for $T_{\\mathrm{on}}$ previously.\n",
      "\n",
      "$$\n",
      "T_{\\mathrm{rep}} = \\frac{1}{\\alpha_y \\log[\\frac{1}{1-K_{yz}/Y_{st}}]}\n",
      "$$\n",
      "\n",
      "#### Z, Phase 2\n",
      "\n",
      "After a delay, $T_{\\mathrm{rep}}$, $Y$ starts to repress the transcription of $Z$ and $Z$ decays to a new lower steady state, $Z_{st} = \\beta_{z}^{'}/\\alpha$. The value of  $\\beta_{z}^{'}$ depends on how leaky the repression of $Z$ is by $Y$.  \n",
      "\n",
      "\n",
      "The dynamics of $Z$ in Phase 2 is given by:\n",
      "\n",
      "$$\n",
      "Z(t) = Z_{st} + (Z_0 - Z_{st})e^{-\\alpha_{z}(t-T_{\\mathrm{rep}})}\n",
      "$$\n",
      "\n",
      "where\n",
      "$$\n",
      "Z_0 = Z_{m}(1-e^{-\\alpha_{z}T_{\\mathrm{rep}}})\n",
      "$$\n"
     ]
    },
    {
     "cell_type": "markdown",
     "metadata": {},
     "source": [
      "### Combining the two phases of Z\n",
      "\n",
      "We can combine the two phases of $Z$ into a single function:\n",
      "\n",
      "$$\n",
      "f(X,Y) = \\beta_z\\Theta(X > K_{xz} \\land Y < K_{yz}) + \\beta_{z}^{'}\\Theta(Y \\geq K_{yz}) - \\alpha_z Z\n",
      "$$"
     ]
    },
    {
     "cell_type": "markdown",
     "metadata": {},
     "source": [
      "### Homework 1: Python Representation of the Incoherent FFL\n",
      "\n",
      "1. Write a Python function to represent dZ/dt for the incoherent FFL\n",
      "2. Simulate the incoherent FFL \n",
      "3. What sort of signal processing would you ascribe to the incoherent FFL?"
     ]
    },
    {
     "cell_type": "code",
     "collapsed": false,
     "input": [
      "## Write a Python function that represents dZ/dt for the Incoherent FFL\n",
      "\n",
      "def dZ_incoh(B1,B2,Kx,Ky,a,X,Y,Z):\n",
      "    pass # define the function here"
     ],
     "language": "python",
     "metadata": {},
     "outputs": []
    },
    {
     "cell_type": "code",
     "collapsed": false,
     "input": [
      "## Write your simulation here\n",
      "\n",
      "nsteps = 150\n",
      "short_pulse = pulse(20, 25, nsteps)  # 5 sec pulse\n",
      "long_pulse = pulse(50, 100, nsteps)  # 50 sec pulse\n",
      "X = short_pulse + long_pulse\n",
      "\n",
      "# setup parameters for Y and Z\n",
      "Y = [0]\n",
      "betay, alphay = 0.2, 0.1\n",
      "Kxy = 0.5\n",
      "\n",
      "Z = [0]\n",
      "betaz1, betaz2 = 0.2, 0.001\n",
      "alphaz = 0.1\n",
      "Kxz = 0.5\n",
      "Kyz = 0.5\n",
      "\n",
      "for i in range(nsteps):\n",
      "    xnow = X[i]\n",
      "    ynow, znow = Y[-1], Z[-1]\n",
      "    \n",
      "    ynew = ynow + dY(betay, Kxy, alphay, xnow, ynow)\n",
      "    znew = znow + dZ_incoh(betaz1, betaz2, Kxz, Kyz, alphaz, xnow, ynow, znow)\n",
      "    \n",
      "    Y.append(ynew)\n",
      "    Z.append(znew)\n",
      "    \n",
      "\n",
      "# draw each trace as a subfigure\n",
      "# subfigures stacked in a vertical grid\n",
      "\n",
      "subplot2grid((3,1),(0,0))\n",
      "plot(X, 'k', label='X', linewidth=1)\n",
      "legend()\n",
      "ylim(0,1.1)\n",
      "\n",
      "subplot2grid((3,1),(1,0))\n",
      "plot(Y, 'b', label='Y', linewidth=2)\n",
      "legend()\n",
      "ylim(0,2.1)\n",
      "\n",
      "subplot2grid((3,1),(2,0))\n",
      "plot(Z, 'r', label='Z', linewidth=2)\n",
      "legend()\n",
      "ylim(0,0.7)\n",
      "pass"
     ],
     "language": "python",
     "metadata": {},
     "outputs": []
    },
    {
     "cell_type": "markdown",
     "metadata": {},
     "source": [
      "### Dynamics of the Incoherent FFL\n",
      "\n",
      "Note that the stimulus amount of $Z$ in the system initially increases, but then decreases to a lower steady even when the initial stimulus persists. This system thus generates **pulse-like dynamics to a persistent signal**. How pulse-like the signal is depends on the ratio of $\\beta_z$ to $\\beta_{z}^{'}$. We define the repression factor, $F$, as follows:\n",
      "\n",
      "$$\n",
      "F = \\frac{\\beta_z}{\\beta_{z}^{'}} = \\frac{Z_m}{Z_{st}}\n",
      "$$\n"
     ]
    },
    {
     "cell_type": "markdown",
     "metadata": {},
     "source": [
      "### Homework 2\n",
      "\n",
      "1. Pick two more FFL topologies and corresponding logic functions for three gene networks and write appropriate functions, using the logic approximation, and generate plots to illustrate their dynamical behavior."
     ]
    },
    {
     "cell_type": "markdown",
     "metadata": {},
     "source": [
      "### Document formatting"
     ]
    },
    {
     "cell_type": "code",
     "collapsed": true,
     "input": [
      "import urllib\n",
      "from IPython.core.display import HTML\n",
      "def css_styling():\n",
      "    #styles = open(\"custom.css\", \"r\").read()\n",
      "    styles = urllib.urlopen(\"http://people.duke.edu/~pm21/ipython-custom.css\").read()\n",
      "    return HTML(styles)\n",
      "css_styling()"
     ],
     "language": "python",
     "metadata": {},
     "outputs": []
    }
   ],
   "metadata": {}
  }
 ]
}