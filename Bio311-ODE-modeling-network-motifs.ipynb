{
 "cells": [
  {
   "cell_type": "markdown",
   "metadata": {},
   "source": [
    "# Modeling Gene Networks Using Ordinary Differential Equations\n",
    "\n",
    "Author: Paul M. Magwene \n",
    "<br> \n",
    "Date: April 2016\n",
    "- - -"
   ]
  },
  {
   "cell_type": "markdown",
   "metadata": {},
   "source": [
    "### Background readings\n",
    "\n",
    "* Shen-Orr, S. S., et al. 2002. Network motifs in the transcriptional regulation network of Escherichia coli. Nat Genet 31(1):64-8. http://dx.doi.org/10.1038/ng881\n",
    "\n",
    "* Alon, U. 2007. Network motifs: theory and experimental approaches. Nat Rev Genet, 8(6):450–61. http://dx.doi.org/10.1038/nrg2102.\n",
    "\n",
    "- - -"
   ]
  },
  {
   "cell_type": "markdown",
   "metadata": {},
   "source": [
    "To gain some intuition for how systems biologists build mathematical models of gene networks we're going to use computer simulations to explore the dynamical behavior of simple transcriptional networks.\n",
    "\n",
    "In each of our simulations we will keep track of the the concentration of a different genes of interest as they change over time.  The basic approach we will use to calculate changes in the quantity of different molecules are  differential equations, which are simply a way of describing the instanteous change in a quantity of interest.  \n",
    "\n",
    "All of our differential equations will be of this form:\n",
    "\n",
    "\\begin{eqnarray*}\n",
    "\\frac{dY}{dt} = \\mbox{rate of production} - \\mbox{rate of decay}\n",
    "\\end{eqnarray*}\n",
    "\n",
    "To state this in words --  the amount of gene $Y$  changes over time is a function of two things: 1) a growth term which represents the rate at which the gene is being transcribed and translated; and 2) a decay term which gives the rate at which $Y$ trascsripts and protein are being degraded.  \n",
    "\n",
    "In general we will assume that the \"rate of production\" is a function of the concentration of the genes that regulate $Y$(i.e. it's inputs in the transcriptional network), while the \"rate of decay\" is a proportional to the amount of $Y$ that is present. So the above formula will take the following structure:\n",
    "\n",
    "$$\n",
    "\\frac{dY}{dt} =  f(X_1, X_2, \\ldots) - \\alpha Y\n",
    "$$\n",
    "\n",
    "The $f(X_1, X_2, \\ldots)$ term represents the growth term and is a function of the transcription factors that regulate $Y$. The term, $\\alpha Y$ represents the rate at which $Y$ is being broken down or diluted.  Notice that the decay rate is a proportional to the amount of $Y$ that is present. \n",
    "\n",
    "If $\\frac{dy}{dt}$ is positive than the concentration of gene $Y$ is increasing, if $\\frac{dy}{dt}$ is negative the concentration of $Y$ is decreasing, and if $\\frac{dy}{dt} = 0$ than $Y$ is at steady state."
   ]
  },
  {
   "cell_type": "markdown",
   "metadata": {},
   "source": [
    "## Modeling the rate of production term with the Hill Function\n",
    "\n",
    "An appropriate approach for modeling the rate of production of a protein, $Y$, as a function of it's inputs, $X_1, X_2,..$, is a with the \"Hill Function\".  The Hill Function for a single transcriptional activator is:\n",
    "\n",
    "$$\n",
    "f(X) = \\frac{\\beta X^n}{K^n + X^n}\n",
    "$$\n",
    "\n",
    "$X$ represents the concentration of a transcriptional activator and $f(X)$  represents the the combined transcription and translation of the gene $Y$ that is regulated by $X$.\n",
    "\n"
   ]
  },
  {
   "cell_type": "markdown",
   "metadata": {},
   "source": [
    "### Modeling transcriptional activation\n",
    "\n",
    "Here a Python function to represent transcriptional activation based on the Hill function given above:"
   ]
  },
  {
   "cell_type": "code",
   "execution_count": null,
   "metadata": {
    "collapsed": true
   },
   "outputs": [],
   "source": [
    "# import statements to make numeric and plotting functions available\n",
    "%matplotlib inline\n",
    "from numpy import *\n",
    "from matplotlib.pyplot import *"
   ]
  },
  {
   "cell_type": "code",
   "execution_count": null,
   "metadata": {
    "collapsed": true
   },
   "outputs": [],
   "source": [
    "\n",
    "def hill_activating(X, B, K, n):\n",
    "    \"\"\" Hill function for an activator\"\"\"\n",
    "    return (B * X**n)/(K**n + X**n)"
   ]
  },
  {
   "cell_type": "markdown",
   "metadata": {},
   "source": [
    "### Visualizing the activating Hill function\n",
    "\n",
    "Now we'll setup a plot to visualize what this function looks like."
   ]
  },
  {
   "cell_type": "code",
   "execution_count": null,
   "metadata": {
    "collapsed": false
   },
   "outputs": [],
   "source": [
    "## generate a plot using the hill_activating function defined above\n",
    "\n",
    "# setup paramters for our simulation\n",
    "# CHANGE THESE VALUES TO EXPLORE THE EFFECT OF THESE PARAMTERS\n",
    "# (see questions below)\n",
    "n = 1\n",
    "B = 5\n",
    "K = 10\n",
    "\n",
    "# generate a range of x values, representing a range of concentrations of our\n",
    "# transcription factor X\n",
    "x = linspace(0,30,200)  # generate 200 evenly spaced points between 0 and 30\n",
    "\n",
    "# calculating corresponding rates of production of Y\n",
    "y = hill_activating(x, B, K, n) \n",
    "\n",
    "# plot the hill fxn with the user set parameters\n",
    "plot(x, y, label='B = {}, K = {}, n={}\\n(user specified)'.format(B, K, n))\n",
    "\n",
    "# plot the hill fxn with a set of reference parameters to facilitate comparison\n",
    "plot(x, hill_activating(x, 5, 10, 1), label='B = 5, K = 10, n=1\\n(reference)', alpha=0.75)\n",
    "\n",
    "xlabel('Concentration of X')\n",
    "ylabel('Rate of production of Y')\n",
    "legend(loc='best')\n",
    "\n",
    "pass # suppress further output"
   ]
  },
  {
   "cell_type": "markdown",
   "metadata": {},
   "source": [
    "<h2> <font color='firebrick'> Question Set 1 (3 pts) </font> </h2>\n",
    "\n",
    "\n",
    "1. What happens to the shape of the Hill function curve when you vary $n$ between 1 and 8?\n",
    "1. What happens to the curve when you vary $\\beta$ between 2 and 20?\n",
    "1. What happens to the curve when you vary $K$ between 2 and 20?"
   ]
  },
  {
   "cell_type": "markdown",
   "metadata": {},
   "source": [
    "### Modeling transcriptional repression\n",
    "\n",
    "If rather than stimulating the production of $Y$, $X$ \"represses\" $Y$, we can write the corresponding Hill function as:\n",
    "\n",
    "$$\n",
    "f(X) = \\frac{\\beta}{1 + (X/K)^n}\n",
    "$$\n",
    "\n",
    "Remember that both of these Hill functions (activating and repressing)  describe the production of $Y$ as a function of the levels of $X$, *not* the temporal dynamics of $Y$ which we'll look at after developing a few more ideas."
   ]
  },
  {
   "cell_type": "code",
   "execution_count": null,
   "metadata": {
    "collapsed": true
   },
   "outputs": [],
   "source": [
    "## Python implementation of repressive Hill function \n",
    "\n",
    "def hill_repressing(X, B, K, n):\n",
    "    return B/(1.0 + (X/K)**n)"
   ]
  },
  {
   "cell_type": "code",
   "execution_count": null,
   "metadata": {
    "collapsed": false
   },
   "outputs": [],
   "source": [
    "## generate a plot using the hill_repressing function defined above\n",
    "\n",
    "# CHANGE THESE VALUES TO EXPLORE THE EFFECT OF THESE PARAMTERS\n",
    "# (see questions below)\n",
    "n = 1\n",
    "B = 5\n",
    "K = 10\n",
    "\n",
    "# generate a range of x values, representing a range of concentrations of our\n",
    "# transcription factor X\n",
    "x = linspace(0,30,200)  # generate 200 evenly spaced points between 0 and 30\n",
    "\n",
    "# calculating corresponding rates of production of Y\n",
    "y = hill_repressing(x, B, K, n) \n",
    "\n",
    "# plot the hill fxn with the user set parameters\n",
    "plot(x, y, label='B = {}, K = {}, n={}\\n(user specified)'.format(B, K, n))\n",
    "\n",
    "# plot the hill fxn with a set of reference parameters to facilitate comparison\n",
    "plot(x, hill_repressing(x, 5, 10, 1), label='B = 5, K = 10, n=1\\n(reference)')\n",
    "\n",
    "xlabel('Concentration of X')\n",
    "ylabel('Rate of production of Y')\n",
    "legend(loc='best')\n",
    "\n",
    "pass # suppress further output"
   ]
  },
  {
   "cell_type": "markdown",
   "metadata": {},
   "source": [
    "<h2> <font color='firebrick'> Question Set 2 (3 pts) </font> </h2>\n",
    "\n",
    "As before change the values of the simulation to answer these questions\n",
    "    \n",
    "* What happens to the shape of the Hill repressive function curve when you vary $n$ between 1 and 8?\n",
    "* What happens to the curve when you vary $B$ between 2 and 20?\n",
    "* What happens to the curve when you vary $K$ between 2 and 20?"
   ]
  },
  {
   "cell_type": "markdown",
   "metadata": {},
   "source": [
    "# Simplifying Models using Logic Approximations\n",
    "\n",
    "To simplify analysis it's often convenient to approximate step-like sigmoidal functions like those produced by the Hill equation with functions using logic approximations. \n",
    "\n",
    "We'll assume that when the transcription factor, $X$, is above a threshold, $K$, then  gene $Y$ is transcribed at a rate, $\\beta$.  When $X$ is below the threshold, $K$, gene $Y$ is not be transcribed.  To represent this situation,  we can rewrite the formula for $Y$ as:\n",
    "\n",
    "$$\n",
    "f(X) = \\beta\\ \\Theta(X > K)\n",
    "$$\n",
    "\n",
    "where the function $\\Theta = 0$ if the statement inside the parentheses is false and $\\Theta = 1$ if the statement is true. An alternate way to write this is:\n",
    "$$\n",
    "f(X) = \n",
    "\\begin{cases}\n",
    "    0,      &\\text{if $X > K$;} \\\\\n",
    "    \\beta,  &\\text{otherwise.}\n",
    "\\end{cases}\n",
    "$$\n",
    "\n",
    "\n",
    "When $X$ is a repressor we can write:\n",
    "\n",
    "$$\n",
    "f(X) = \\beta\\ \\Theta(X < K)\n",
    "$$"
   ]
  },
  {
   "cell_type": "markdown",
   "metadata": {},
   "source": [
    "### Python functions for the logic approximation\n",
    "\n",
    "We can write Python functions to represent the logic approximations for activation and repression as follows:"
   ]
  },
  {
   "cell_type": "code",
   "execution_count": null,
   "metadata": {
    "collapsed": true
   },
   "outputs": [],
   "source": [
    "\n",
    "def logic_activating(X, B, K):\n",
    "    if X > K:\n",
    "        theta = 1\n",
    "    else:\n",
    "        theta = 0\n",
    "    return B*theta \n",
    "\n",
    "def logic_repressing(X, B, K):\n",
    "    if X < K:\n",
    "        theta = 1\n",
    "    else:\n",
    "        theta = 0\n",
    "    return B*theta"
   ]
  },
  {
   "cell_type": "markdown",
   "metadata": {},
   "source": [
    "And now we can generate some plot to compare the logic approximation to the Hill function, for the activating case:"
   ]
  },
  {
   "cell_type": "code",
   "execution_count": null,
   "metadata": {
    "collapsed": false
   },
   "outputs": [],
   "source": [
    "## generate plots using your hill_activating and logic_activating functions defined above\n",
    "## For X values range from 0 to 30\n",
    "\n",
    "# CHANGE THESE VALUES TO EXPLORE THE EFFECT OF THESE PARAMTERS\n",
    "n = 4\n",
    "B = 5\n",
    "K = 10\n",
    "\n",
    "\n",
    "x = linspace(0, 30, 200)\n",
    "\n",
    "plot(x, hill_activating(x, B, K, n), \n",
    "     label='B = {}, K = {}, n={}'.format(B, K, n))\n",
    "\n",
    "logicx = [logic_activating(i, B, K) for i in x]\n",
    "plot(x, logicx, label='logic approximation')\n",
    "\n",
    "xlabel('Concentration of X')\n",
    "ylabel('Rate of production of Y')\n",
    "legend(loc='best')\n",
    "ylim(-0.5, B*1.1)\n",
    "pass"
   ]
  },
  {
   "cell_type": "markdown",
   "metadata": {},
   "source": [
    "<h2> <font color='firebrick'> Question Set 3 (3 pts) </font> </h2>\n",
    "\n",
    "As before change the values of the simulation to answer these questions\n",
    "    \n",
    "* How does the parameter K in the Hill function relate to the location of the \"step\" of the logic approximation?\n",
    "* How does the parameter $\\beta$ relate to the rate of production of $Y$?\n",
    "* For waht values of $n$ is the logic approximation most like the hill function?"
   ]
  },
  {
   "cell_type": "markdown",
   "metadata": {},
   "source": [
    "### Logic approximations for multi-input functions\n",
    "\n",
    "What if a gene needs two or more activator proteins to be transcribed?  We can describe the amount of $Z$ transcribed as a function of active forms of $X$ and $Y$ with a function like:\n",
    "\n",
    "$$\n",
    "    f(X,Y) = \\beta\\ \\Theta(X > K_x \\land Y > K_y)\n",
    "$$\n",
    "\n",
    "The above equation describes \"AND\" logic (i.e. *both* X and Y have to be above their threshold levels, $K_x$ and $K_y$, for Z to be transcribed). In a similar manner we can define \"OR\" logic:\n",
    "\n",
    "$$\n",
    "f(X,Y) = \\beta\\ \\Theta(X > K_x \\lor Y > K_y)\n",
    "$$\n",
    "\n",
    "A SUM function would be defined like this:\n",
    "\n",
    "$$\n",
    "f(X,Y) = \\beta_x \\Theta(X > K_x) + \\beta_y \\Theta (Y > K_y)\n",
    "$$"
   ]
  },
  {
   "cell_type": "markdown",
   "metadata": {},
   "source": [
    "# Modeling changes in network components over time\n",
    "\n",
    "Up until this point we've been considering how the *rate of production* of a protein $Y$ changes with the concentration of a transcriptional activator/repressor that regulates $Y$.  Now we want to turn to the question of how the absolute amount of $Y$ changes over time.\n",
    "\n",
    "As we discussed at the beginning of this notebook, how the amount of $Y$  changes over time is a function of two things: 1) a growth term which represents the rate of production of $Y$; and 2) a decay term which gives the rate at which $Y$ is degraded.  A  differential equation describing this as follows:\n",
    "\n",
    "$$\n",
    "\\frac{dY}{dt} =  f(X_1, X_2, \\ldots) - \\alpha Y\n",
    "$$\n",
    "\n",
    "The $f(X_1, X_2, \\ldots)$ term represents the growth term and is a function of the transcription factors that regulate $Y$. We've already seen a couple of ways to model the rate of producting -- using the Hill function or its logic approximation. For the sake of simplicity we'll use the logic approximation to model the growth term.  For example, in the case $Y$ is regulated by a single input we might use $f(X) = \\beta \\theta(X > K_1)$.  For the equivalent function where $Y$ was regulated by two transcription factor, $X_1$ and $X_2$, and both are required to be above the respective threshold, we could use the function $f(X_1, X_2) = \\beta \\theta (X_1 > K_1 \\land X_2 > K_2)$. \n",
    "\n",
    "The second term, $\\alpha Y$ represents the rate at which $Y$ is being broken down or diluted.  Notice that the decay rate is a proportional to the amount of $Y$ that is present.\n",
    "\n",
    "\n"
   ]
  },
  {
   "cell_type": "markdown",
   "metadata": {},
   "source": [
    "## Change in  concentration under constant activation\n",
    "\n",
    "Now let's explore a simple model of regulation for the two gene network, $X \\longrightarrow Y$. Here we assume that at time 0 the activator, $X$, rises above the threshold, $K$, necessary to induce transcription of $Y$ at the rate $\\beta$.  $X$ remains above this threshold for the entire simulation. Therefore, we can write $dY/dt$ as:\n",
    "\n",
    "$$\n",
    "\\frac{dY}{dt} =  \\beta - \\alpha Y\n",
    "$$\n",
    "\n",
    "\n",
    "Write a Python function to represent the change in $Y$ in a given time increment, under this assumption of constant activation:"
   ]
  },
  {
   "cell_type": "code",
   "execution_count": null,
   "metadata": {
    "collapsed": true
   },
   "outputs": [],
   "source": [
    "## write a function to represent the simple differential equation above\n",
    "\n",
    "def dYdt(B, K, a, X, Y):\n",
    "    production = logic_activating(X, B, K)\n",
    "    decay = a*Y\n",
    "    return production - decay"
   ]
  },
  {
   "cell_type": "code",
   "execution_count": null,
   "metadata": {
    "collapsed": false
   },
   "outputs": [],
   "source": [
    "## generate a plot of conc of Y over time using your dY function defined above\n",
    "## Evaluated over 200 time units\n",
    "\n",
    "B = 5\n",
    "K = 10\n",
    "X = K + 1\n",
    "\n",
    "Y = [0] # initial value of Y\n",
    "a = 0.05\n",
    "nsteps = 200\n",
    "\n",
    "for i in range(nsteps):\n",
    "    yprevious = Y[-1]\n",
    "    deltay = dYdt(B, K, a, X, yprevious)\n",
    "    ynew = Y[-1] + deltay\n",
    "    Y.append(ynew)\n",
    "    \n",
    "plot(Y)\n",
    "xlabel('Time units')\n",
    "ylabel('Concentration of Y')\n",
    "ylim(0, (B/a)*1.1)\n",
    "pass"
   ]
  },
  {
   "cell_type": "markdown",
   "metadata": {},
   "source": [
    "<h2> <font color='firebrick'> Question Set 4 (3 pts) </font> </h2>\n",
    "\n",
    "\n",
    "1.  The concentration of $Y$ eventually reaches a steady state, $Y_{st}$.  How does $Y_{st}$ relate to $\\beta$ and $\\alpha$?\n",
    "\n",
    "1. The **response time** of a dynamical system, $T_{1/2}$is defined as the time it takes for it to go half-way between it's initial and final value.  \n",
    "    - a) How does the response time change as you vary $\\beta$?\n",
    "    - b) How does the response time change as you vary $\\alpha$?\n",
    "\n",
    "1. Estimate the response time as you vary the parameter  $\\alpha$ and see if you can create a plot (in Python, or R, or Excel) showing the relationship between $\\alpha$ and response time, for $0.01 \\leq \\alpha \\leq 0.1$."
   ]
  },
  {
   "cell_type": "markdown",
   "metadata": {},
   "source": [
    "## Toggling the activator X\n",
    "\n",
    "In the proceeding example the activator $X$ was on at the beginning of the simulation and just stayed on.  Let's see what happens when $X$ has pulsatile dynamics.  This would be akin to  toggling $X$ on then off, and asking what happens to $Y$."
   ]
  },
  {
   "cell_type": "code",
   "execution_count": null,
   "metadata": {
    "collapsed": false
   },
   "outputs": [],
   "source": [
    "B = 5\n",
    "K = 10\n",
    "a = 0.05\n",
    "\n",
    "# setup pulse of X\n",
    "# off (0) for first 50 steps, on for next 100 steps, off again for last 100 steps\n",
    "X = [0]*50 + [3*K]*100 + [0]*100\n",
    "\n",
    "Y = [0] # initial value of Y\n",
    "\n",
    "nsteps = 250\n",
    "for i in range(1, nsteps):\n",
    "    xnow = X[i]\n",
    "    yprevious = Y[-1]\n",
    "    deltay = dYdt(B, K, a, xnow, yprevious)\n",
    "    ynew = yprevious + deltay\n",
    "    Y.append(ynew)\n",
    "    \n",
    "plot(X, color='red', linestyle='dashed', label=\"X\")\n",
    "plot(Y, color='blue', label=\"Y\")\n",
    "ylim(0, max(max(X)*1.1, (B/a)*1.1))\n",
    "xlabel('Time units')\n",
    "ylabel('Concentration')\n",
    "legend(loc=\"best\")\n",
    "pass"
   ]
  },
  {
   "cell_type": "markdown",
   "metadata": {},
   "source": [
    "# Feed Forward Loops\n",
    "\n",
    "We're now going to use some of these tools to look at a class of network motifs (small network topologies), called Feed Forward Loops (FFLs), found in signaling and regulatory networks. FFLs involve interactions between three components, with the basic topology illustrated below. Depending on the signs of the edges (whether activating or repressing) we can classify FFLs as \"coherent\" or \"incoherent.\" We'll take a look at an example of each class."
   ]
  },
  {
   "cell_type": "markdown",
   "metadata": {},
   "source": [
    "\n",
    "## A Coherent FFL\n",
    "\n",
    "The most common type of coherent FFL is illustrated in the figure below.  In this system $X$ is an activator of $Y$ and both $X$ and $Y$ regulate the production of $Z$ with AND logic (i.e. both $X$ and $Y$ must be above particular thresholds in order to trigger the production of $Z$). \n",
    "\n",
    "![coherent ffl](http://people.duke.edu/~pm21/coherent-ffl.png)\n",
    "Using our logic approximation framework we will model the coherent FFL network illustrated above as follows.\n",
    "\n",
    "\n",
    "#### Gene Y:\n",
    "\n",
    "\\begin{eqnarray*}\n",
    "Y = f(X) = \\beta_y\\ \\Theta(X > K_{xy})\n",
    "\\\\\n",
    "\\\\\n",
    "\\frac{dY}{dt} = \\beta_y\\ \\Theta(X > K_{xy}) - \\alpha_{y}Y\n",
    "\\end{eqnarray*}    \n",
    "    \n",
    "    \n",
    "    \n",
    "#### Gene Z:\n",
    "\n",
    "\\begin{eqnarray*}\n",
    "Z = g(X,Y) = \\beta_z\\ \\Theta(X > K_{xz})\\Theta(Y > K_{yz})\n",
    "\\\\\n",
    "\\\\\n",
    "\\frac{dZ}{dt} = \\beta_z\\ \\Theta(X > K_{xz})\\Theta(Y > K_{yz}) - \\alpha_{z}Z\n",
    "\\end{eqnarray*}  "
   ]
  },
  {
   "cell_type": "code",
   "execution_count": null,
   "metadata": {
    "collapsed": true
   },
   "outputs": [],
   "source": [
    "## We'll specify the behavior of X as a series of pulse of different length\n",
    "## so we'll define a function to generate pulses\n",
    "\n",
    "def pulse(ontime, offtime,  ntimes, onval=1):\n",
    "    if ontime >= offtime:\n",
    "        raise Exception(\"Invalid on/off times.\")\n",
    "    signal = np.zeros(ntimes)\n",
    "    signal[ontime:offtime] = onval\n",
    "    return signal"
   ]
  },
  {
   "cell_type": "code",
   "execution_count": null,
   "metadata": {
    "collapsed": false
   },
   "outputs": [],
   "source": [
    "nsteps = 150\n",
    "short_pulse = pulse(20, 23, nsteps)  # 5 sec pulse\n",
    "long_pulse = pulse(50, 100, nsteps)  # 50 sec pulse\n",
    "X = short_pulse + long_pulse  # we can then add the pulses to create\n",
    "                              # a single time trace\n",
    "\n",
    "plot(X, color='black')\n",
    "xlabel('Time units')\n",
    "ylabel('Amount of Gene Product')\n",
    "ylim(0, 1.5)\n",
    "pass"
   ]
  },
  {
   "cell_type": "markdown",
   "metadata": {},
   "source": [
    "### Define Python functions for dY/dt and dZ/dt\n",
    "\n",
    "Recall from above that\n",
    "\n",
    "\\begin{eqnarray*}\n",
    "\\frac{dY}{dt} & = & \\beta_y\\ \\Theta(X > K_{xy}) - \\alpha_{y}Y \\\\ \\\\\n",
    "\\frac{dZ}{dt} & = & \\beta_z\\ \\Theta(X > K_{xz})\\Theta(Y > K_{yz}) - \\alpha_{z}Z\n",
    "\\end{eqnarray*}"
   ]
  },
  {
   "cell_type": "code",
   "execution_count": null,
   "metadata": {
    "collapsed": true
   },
   "outputs": [],
   "source": [
    "def dYdt(B, K, a, X, Y):\n",
    "    if X > K:\n",
    "        theta = 1\n",
    "    else:\n",
    "        theta = 0\n",
    "    return B * theta - a * Y\n",
    "\n",
    "\n",
    "def dZdt(B, Kx, Ky, a, X, Y, Z):\n",
    "    theta = 0\n",
    "    if (X > Kx) and (Y > Ky):\n",
    "        theta = 1\n",
    "    return B * theta - a * Z\n"
   ]
  },
  {
   "cell_type": "code",
   "execution_count": null,
   "metadata": {
    "collapsed": false
   },
   "outputs": [],
   "source": [
    "## Plot X, Y, and Z on the same time scale\n",
    "\n",
    "nsteps = 150\n",
    "short_pulse = pulse(20, 23, nsteps)  # 5 sec pulse\n",
    "long_pulse = pulse(50, 100, nsteps)  # 50 sec pulse\n",
    "X = short_pulse + long_pulse\n",
    "\n",
    "# setup parameters for Y and Z\n",
    "Y = [0]\n",
    "betay, alphay = 0.2, 0.1\n",
    "Kxy = 0.5\n",
    "\n",
    "Z = [0]\n",
    "betaz, alphaz = 0.2, 0.1\n",
    "Kxz = 0.5\n",
    "Kyz = 1\n",
    "\n",
    "for i in range(nsteps):\n",
    "    xnow = X[i]\n",
    "    ynow, znow = Y[-1], Z[-1]\n",
    "    \n",
    "    ynew = ynow + dYdt(betay, Kxy, alphay, xnow, ynow)\n",
    "    znew = znow + dZdt(betaz, Kxz, Kyz, alphaz, xnow, ynow, znow)\n",
    "    \n",
    "    Y.append(ynew)\n",
    "    Z.append(znew)\n",
    "    \n",
    "\n",
    "plot(X, 'k--', label='X', linewidth=1.5)\n",
    "plot(Y, 'b', label='Y')\n",
    "plot(Z, 'r', label='Z')\n",
    "ylim(-0.1, 2.5)\n",
    "xlabel(\"Time\")\n",
    "ylabel(\"Concentration\")\n",
    "legend()\n",
    "pass"
   ]
  },
  {
   "cell_type": "markdown",
   "metadata": {},
   "source": [
    "<h2> <font color='firebrick'>Question Set 5 (2 pts)</font> </h2>\n",
    "\n",
    "1. How do the dynamics of $Y$ and $Z$ differ in the simulation above?\n",
    "\n",
    "1. Try varying the length of the first (short) pulse.  How does changing the length of the pulse affect the dynamics of $Y$ and $Z$?"
   ]
  },
  {
   "cell_type": "markdown",
   "metadata": {},
   "source": [
    "# Performance of the Coherent FFL under noisy inputs\n",
    "\n",
    "Let's further explore the behavior of the coherent FFL defined given noisy inputs.  As before we're going to define an input signal, $X$, that has a short and long pulse, but now we're going to pollute $X$ with random noise."
   ]
  },
  {
   "cell_type": "code",
   "execution_count": null,
   "metadata": {
    "collapsed": false
   },
   "outputs": [],
   "source": [
    "nsteps = 150\n",
    "\n",
    "p1start = 10\n",
    "p1duration = 5\n",
    "\n",
    "p2start = 50\n",
    "p2duration = 50\n",
    "\n",
    "short_pulse = pulse(p1start, p1start + p1duration, nsteps)  # short pulse\n",
    "long_pulse = pulse(p2start, p2start + p2duration, nsteps)  # long pulse\n",
    "X = short_pulse + long_pulse \n",
    "\n",
    "# change this `scale` argument to increase/decrease noise\n",
    "noise = np.random.normal(loc=0, scale=0.2, size=nsteps) # mean=0, sd=0.2\n",
    "\n",
    "X = X + noise\n",
    "\n",
    "# setup parameters for Y and Z\n",
    "Y = [0]\n",
    "betay, alphay = 0.2, 0.1\n",
    "Kxy = 0.5\n",
    "\n",
    "Z = [0]\n",
    "betaz, alphaz = 0.2, 0.1\n",
    "Kxz = 0.5\n",
    "Kyz = 1\n",
    "\n",
    "for i in range(nsteps):\n",
    "    xnow = X[i]\n",
    "    ynow, znow = Y[-1], Z[-1]\n",
    "    ynew = ynow + dYdt(betay, Kxy, alphay, xnow, ynow)\n",
    "    znew = znow + dZdt(betaz, Kxz, Kyz, alphaz, xnow, ynow, znow)\n",
    "    Y.append(ynew)\n",
    "    Z.append(znew)\n",
    "\n",
    "# draw each trace as a subfigure\n",
    "# subfigures stacked in a vertical grid\n",
    "\n",
    "subplot2grid((3,1),(0,0))\n",
    "plot(X, 'k', label='X', linewidth=1)\n",
    "legend()\n",
    "\n",
    "subplot2grid((3,1),(1,0))\n",
    "plot(Y, 'b', label='Y', linewidth=2)\n",
    "legend()\n",
    "\n",
    "subplot2grid((3,1),(2,0))\n",
    "plot(Z, 'r', label='Z', linewidth=2)\n",
    "\n",
    "vlines(p1start, min(Z),max(Z)*1.1,color='black',linestyle='dashed')\n",
    "annotate(\"pulse 1 on\", xy=(p1start,1),xytext=(40,20),\n",
    "         textcoords='offset points',\n",
    "         horizontalalignment=\"center\",\n",
    "         verticalalignment=\"bottom\",\n",
    "         arrowprops=dict(arrowstyle=\"->\",color='black',\n",
    "                         connectionstyle='arc3,rad=0.5',\n",
    "                         linewidth=1))\n",
    "vlines(p2start, min(Z),max(Z)*1.1,color='black',linestyle='dashed')\n",
    "annotate(\"pulse 2 on\", xy=(p2start,1),xytext=(-40,0),\n",
    "         textcoords='offset points',\n",
    "         horizontalalignment=\"center\",\n",
    "         verticalalignment=\"bottom\",\n",
    "         arrowprops=dict(arrowstyle=\"->\",color='black',\n",
    "                         connectionstyle='arc3,rad=0.5',\n",
    "                         linewidth=1))\n",
    "legend()\n",
    "pass"
   ]
  },
  {
   "cell_type": "markdown",
   "metadata": {},
   "source": [
    "<h2> <font color='firebrick'>Question Set 6 (2 pts) </font> </h2>\n",
    "\n",
    "In the code cell above, try changing the duration of the first pulse and the `scale` of the noise (see comments in code) to get a sense of how good a filter the FFL is.  Is there a bias to the filtering with respect to Z turning on versus Z turning off?"
   ]
  },
  {
   "cell_type": "markdown",
   "metadata": {},
   "source": [
    "\n",
    "### Dynamics of Y and Z in the Coherent FFL\n",
    "\n",
    "As before we can solve for Y as a function of time and calculate what its steady state value will be:\n",
    "\n",
    "$$\n",
    "Y(t) = Y_{st}(1-e^{-\\alpha_{y}t})\n",
    "$$\n",
    "\n",
    "and \n",
    "\n",
    "$$\n",
    "Y_{st}=\\frac{\\beta_y}{\\alpha_y}\n",
    "$$\n",
    "\n",
    "#### How about $Z$? \n",
    "\n",
    "Since $Z$ is governed by an AND function it needs both $X$ and $Y$ to be above their respective thresholds, $K_{xz}$ and $K_{yz}$. For the sake of simplicity let's assume that both $Y$ and $Z$ have the same threshold with respect to $X$, i.e. $K_{xy} = K_{xz}$. This allows us just to consider how long it takes for $Y$ to reach the threshold value $K_{yz}$. Given this we can calculate the delay before $Z$ turns on, $T_{\\mathrm{on}}$ as follows.\n",
    "\n",
    "$$\n",
    "Y(T_{\\mathrm{on}}) = Y_{st}(1-e^{-\\alpha_y T_{\\mathrm{on}}}) = K_{yz}\n",
    "$$\n",
    "\n",
    "and solving for $T_{\\mathrm{on}}$ we find:\n",
    "\n",
    "$$\n",
    "T_{\\mathrm{on}} = \\frac{1}{\\alpha_y} \\log\\left[\\frac{1}{(1-K_{yz}/Y_{st})}\\right]\n",
    "$$\n",
    "\n",
    "Thus we see that the delay before $Z$ turns on is a function of the degradation rate of $Y$ and the ratio between $Y_{st}$ and $K_{yz}$.  \n",
    "\n",
    "#### Exploring the Parameter space of $Z$'s turn-on time\n",
    "\n",
    "From the above formula, we see that there are two parameters that affect the turn-on time of $Z$ -- $\\alpha_y$ (the scaling factor for the decay rate of $Y$)  and the compound parameter $K_{yz}/Y_{st}$ (the threshold concentration where $Y$ activate $Z$ relative to the steady state of $Y$).  To explore the two-dimensional parameter space of $Z's$ $T_on$ we can create a contour plot."
   ]
  },
  {
   "cell_type": "code",
   "execution_count": null,
   "metadata": {
    "collapsed": false
   },
   "outputs": [],
   "source": [
    "def Ton(alpha, KYratio):\n",
    "    return (1.0/alpha) * log(1.0/(1.0-KYratio))\n",
    "\n",
    "## Create a contour plot for a range of alpha and Kyz/Yst\n",
    "x = alpha = linspace(0.01, 0.2, 100)\n",
    "y = KYratio = linspace(0.01, 0.99, 100)\n",
    "X,Y = meshgrid(x, y)\n",
    "\n",
    "Z = Ton(X,Y)\n",
    "levels = MaxNLocator(nbins=20).tick_values(Z.min(), Z.max())\n",
    "\n",
    "im = contourf(X,Y,Z, cmap=cm.afmhot_r, levels=levels)\n",
    "contour(X, Y, Z, levels,\n",
    "                  colors=('k',),\n",
    "                  linewidths=(0.5,))\n",
    "colorbar(im)\n",
    "xlabel('alpha')\n",
    "ylabel(\"Kyz/Yst\")\n",
    "pass"
   ]
  },
  {
   "cell_type": "markdown",
   "metadata": {
    "collapsed": true
   },
   "source": [
    "## Type 1 Coherent FFLs can act as a Sign-Sensitive Delays\n",
    "\n",
    "As discussed in the article by Shen-Orr et al. a feed forward loop of the type we've just discussed can act as a type of filter -- a sign-sensitive delay that keeps $Z$ from firing in response to transient noisy signals from $X$, but shuts down $Z$ immediately once the signal from $X$ is removed. "
   ]
  },
  {
   "cell_type": "markdown",
   "metadata": {},
   "source": [
    "# An Incoherent FFL\n",
    "\n",
    "Consider the FFL illustrated in the figure below.  \n",
    "\n",
    "![incoherent ffl](http://people.duke.edu/~pm21/incoherent-ffl.png)\n",
    "\n",
    "In this incoherent FFL, the logic function that regulates $Z$ is \"X AND NOT Y\".  That is $Z$ turns on once $X$ is above a given threshold, but only stays on fully as long as $Y$ is below another threshold. Again for simplicity we assume $K_{xy} = K_{yz}$. "
   ]
  },
  {
   "cell_type": "markdown",
   "metadata": {},
   "source": [
    "### Dynamics of Y\n",
    "\n",
    "As before, the dynamics of $Y$ are described by:\n",
    "\n",
    "$$\n",
    "\\frac{dY}{dt} = \\beta_y\\ \\Theta(X > K_{xy}) - \\alpha_{y}Y\n",
    "$$\n",
    "\n",
    "and   \n",
    "\n",
    "$$\n",
    "Y(t) = Y_{st}(1-e^{-\\alpha_{y}t})\n",
    "$$\n",
    "\n"
   ]
  },
  {
   "cell_type": "markdown",
   "metadata": {},
   "source": [
    "\n",
    "### Dynamics of Z\n",
    "\n",
    "To describe $Z$ we consider two phases - 1) while $Y < K_{yz}$ and 2) while $Y > K_{yz}$. \n",
    "\n",
    "#### Z, Phase 1\n",
    "\n",
    "For the first phase:\n",
    "\n",
    "$$\n",
    "\\frac{dZ}{dt} = \\beta_z\\ \\Theta(X > K_{xz}) - \\alpha_{z}Z\n",
    "$$\n",
    "\n",
    "and\n",
    "\n",
    "$$\n",
    "Z(t) = Z_{m}(1-e^{-\\alpha_{z}t})\n",
    "$$\n",
    "\n",
    "As we did in the case of the coherent FFL, we can calculate the time until $Y$ reaches the treshold $K_{yz}$. We'll call this $T_{\\mathrm{rep}}$ and it is the same formula we found for $T_{\\mathrm{on}}$ previously.\n",
    "\n",
    "$$\n",
    "T_{\\mathrm{rep}} = \\frac{1}{\\alpha_y \\log[\\frac{1}{1-K_{yz}/Y_{st}}]}\n",
    "$$\n",
    "\n",
    "#### Z, Phase 2\n",
    "\n",
    "After a delay, $T_{\\mathrm{rep}}$, $Y$ starts to repress the transcription of $Z$ and $Z$ decays to a new lower steady state, $Z_{st} = \\beta_{z}^{'}/\\alpha$. The value of  $\\beta_{z}^{'}$ depends on how leaky the repression of $Z$ is by $Y$.  \n",
    "\n",
    "\n",
    "The dynamics of $Z$ in Phase 2 is given by:\n",
    "\n",
    "$$\n",
    "Z(t) = Z_{st} + (Z_0 - Z_{st})e^{-\\alpha_{z}(t-T_{\\mathrm{rep}})}\n",
    "$$\n",
    "\n",
    "where\n",
    "$$\n",
    "Z_0 = Z_{m}(1-e^{-\\alpha_{z}T_{\\mathrm{rep}}})\n",
    "$$\n",
    "\n"
   ]
  },
  {
   "cell_type": "markdown",
   "metadata": {},
   "source": [
    "### Combining the two phases of Z\n",
    "\n",
    "We can combine the two phases of $Z$ into a single function:\n",
    "\n",
    "$$\n",
    "f(X,Y) = \\beta_z\\Theta(X > K_{xz} \\land Y < K_{yz}) + \\beta_{z}^{'}\\Theta(Y \\geq K_{yz}) - \\alpha_z Z\n",
    "$$"
   ]
  },
  {
   "cell_type": "code",
   "execution_count": null,
   "metadata": {
    "collapsed": true
   },
   "outputs": [],
   "source": [
    "## A Python function that represents dZ/dt for the Incoherent FFL\n",
    "## our dY function previously defined stays the same\n",
    "\n",
    "def dZ_incoh(B1,B2,Kx,Ky,a,X,Y,Z):\n",
    "    pass # define the function here\n",
    "\n",
    "def dZ_incoh(B1,B2,Kx,Ky,a,X,Y,Z):\n",
    "    theta = 0\n",
    "    B = 0\n",
    "    if (X > Kx) and (Y < Ky):\n",
    "        theta = 1\n",
    "        B = B1\n",
    "    elif (X > Kx) and (Y >= Ky):\n",
    "        theta = 1\n",
    "        B = B2\n",
    "    return B * theta - a * Z"
   ]
  },
  {
   "cell_type": "code",
   "execution_count": null,
   "metadata": {
    "collapsed": false
   },
   "outputs": [],
   "source": [
    "\n",
    "nsteps = 150\n",
    "short_pulse = pulse(20, 25, nsteps)  # 5 sec pulse\n",
    "long_pulse = pulse(50, 100, nsteps)  # 50 sec pulse\n",
    "X = short_pulse + long_pulse\n",
    "\n",
    "# setup parameters for Y and Z\n",
    "Y = [0]\n",
    "betay, alphay = 0.2, 0.1\n",
    "Kxy = 0.5\n",
    "\n",
    "Z = [0]\n",
    "betaz1, betaz2 = 0.2, 0.001\n",
    "alphaz = 0.1\n",
    "Kxz = 0.5\n",
    "Kyz = 0.5\n",
    "\n",
    "for i in range(nsteps):\n",
    "    xnow = X[i]\n",
    "    ynow, znow = Y[-1], Z[-1]\n",
    "    \n",
    "    ynew = ynow + dYdt(betay, Kxy, alphay, xnow, ynow)\n",
    "    znew = znow + dZ_incoh(betaz1, betaz2, Kxz, Kyz, alphaz, xnow, ynow, znow)\n",
    "    \n",
    "    Y.append(ynew)\n",
    "    Z.append(znew)\n",
    "    \n",
    "\n",
    "# draw each trace as a subfigure\n",
    "# subfigures stacked in a vertical grid\n",
    "\n",
    "subplot2grid((3,1),(0,0))\n",
    "plot(X, 'k', label='X', linewidth=1)\n",
    "legend()\n",
    "ylim(0,1.1)\n",
    "\n",
    "subplot2grid((3,1),(1,0))\n",
    "plot(Y, 'b', label='Y', linewidth=2)\n",
    "legend()\n",
    "ylim(0,2.1)\n",
    "\n",
    "subplot2grid((3,1),(2,0))\n",
    "plot(Z, 'r', label='Z', linewidth=2)\n",
    "legend()\n",
    "ylim(0,0.7)\n",
    "pass"
   ]
  },
  {
   "cell_type": "markdown",
   "metadata": {},
   "source": [
    "### Dynamics of the Incoherent FFL\n",
    "\n",
    "Note that the stimulus amount of $Z$ in the system initially increases, but then decreases to a lower steady even when the initial stimulus persists. This system thus generates **pulse-like dynamics to a persistent signal**. How pulse-like the signal is depends on the ratio of $\\beta_z$ to $\\beta_{z}^{'}$. We define the repression factor, $F$, as follows:\n",
    "\n",
    "$$\n",
    "F = \\frac{\\beta_z}{\\beta_{z}^{'}} = \\frac{Z_m}{Z_{st}}\n",
    "$$\n",
    "\n"
   ]
  },
  {
   "cell_type": "markdown",
   "metadata": {},
   "source": [
    "<h2> <font color='firebrick'> Extra credit (10 pts): Coupled FFLs </font> </h2>\n",
    "\n",
    "Alon (2007) illustrates the possible dynamics of several FFLs coupled together (see figure below):\n",
    "\n",
    "![Coupled FFLs from Alon 2007, Fig 7c,d](https://raw.githubusercontent.com/Bio311-class/misc/master/alon-2007-figure-7cd.png)\n"
   ]
  },
  {
   "cell_type": "markdown",
   "metadata": {},
   "source": [
    "\n",
    "<font color='firebrick'> Answer the questions below with short-answers and/or figures where helpful. </font>\n",
    "\n",
    "1) In the network above (left subfigure), there are several coupled Feed-Forward Loops.\n",
    "\n",
    "  - What type of FFL do the genes $X_1$, $Y_1$, and $Z_1$ make?\n",
    "  - What type of FFL do the genes $X_1$, $Y_1$, and $X_2$ make?\n",
    "       \n",
    "       \n",
    "2) Alon writes \"The FFLs in this network are combined in a way that utilizes their delay and pulse-generating features to generate a temporal programme of gene expression.\" This is illustrated in the figure on the right. For the questions below, assume there is a constant level of the transcription factor $X_1$.\n",
    "\n",
    "  - What features of the network topology cause $Z_1$ and $Z_2$ to turn off?\n",
    "  - What features of the network topology contribute to the delay between $Z_1$ turning on and $Z_2$ turning on?\n",
    "  - Why does gene $Z_3$ stay on?\n",
    "\n",
    "\n",
    "3) Gene knockouts\n",
    "  - If you were to knockout $X_1$, what should happen to the expression of $Z_1$, $Z_2$, and $Z_3$?\n",
    "  - If you were to knockout $X_2$, what should happen to the expression of $Z_1$, $Z_2$, and $Z_3$?\n",
    "  - If you were to knockout gene $Y_2$, what should happen to the expression of $Z_1$, $Z_2$, and $Z_3$?\n",
    "  \n",
    "4) Additional regulation\n",
    "  - If $Z_3$ negatively regulated $Y_2$ what would you predict would happen to the dynamics of $Z_1$, $Z_2$ and $Z_3$ expression?\n",
    "\n"
   ]
  },
  {
   "cell_type": "code",
   "execution_count": null,
   "metadata": {
    "collapsed": true
   },
   "outputs": [],
   "source": []
  }
 ],
 "metadata": {
  "kernelspec": {
   "display_name": "Python 3",
   "language": "python",
   "name": "python3"
  },
  "language_info": {
   "codemirror_mode": {
    "name": "ipython",
    "version": 3
   },
   "file_extension": ".py",
   "mimetype": "text/x-python",
   "name": "python",
   "nbconvert_exporter": "python",
   "pygments_lexer": "ipython3",
   "version": "3.5.1"
  }
 },
 "nbformat": 4,
 "nbformat_minor": 0
}
